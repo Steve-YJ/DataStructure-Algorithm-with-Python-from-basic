{
  "nbformat": 4,
  "nbformat_minor": 0,
  "metadata": {
    "colab": {
      "name": "Ch07. 배열 문제풀이.ipynb",
      "provenance": [],
      "collapsed_sections": [],
      "authorship_tag": "ABX9TyOY2ysxns4atm7XdmVlYoZ5",
      "include_colab_link": true
    },
    "kernelspec": {
      "name": "python3",
      "display_name": "Python 3"
    }
  },
  "cells": [
    {
      "cell_type": "markdown",
      "metadata": {
        "id": "view-in-github",
        "colab_type": "text"
      },
      "source": [
        "<a href=\"https://colab.research.google.com/github/Steve-YJ/DataStructure-Algorithm-with-Python-from-basic/blob/master/Ch07_%EB%B0%B0%EC%97%B4_%EB%AC%B8%EC%A0%9C%ED%92%80%EC%9D%B4.ipynb\" target=\"_parent\"><img src=\"https://colab.research.google.com/assets/colab-badge.svg\" alt=\"Open In Colab\"/></a>"
      ]
    },
    {
      "cell_type": "markdown",
      "metadata": {
        "id": "X5SCMcdcHHT6",
        "colab_type": "text"
      },
      "source": [
        "* Ch07. 배열의 문제를 풀어보자\n",
        "* 동적배열을 배운 지금, 무서울 것이 없다...!"
      ]
    },
    {
      "cell_type": "markdown",
      "metadata": {
        "id": "fyT7SIxYHP5F",
        "colab_type": "text"
      },
      "source": [
        "## Q1. 두수의 합\n",
        "\n",
        "\"덧셈하여 타겟을 만들 수 있는 배열의 두 숫자 인덱스를 리턴하라.\"<br>\n",
        "\n",
        "* https://leetcode.com/problems/two-sum/"
      ]
    },
    {
      "cell_type": "code",
      "metadata": {
        "id": "cBPJKRueHjUx",
        "colab_type": "code",
        "colab": {}
      },
      "source": [
        "nums = [2, 7, 11, 15]\n",
        "target = 9"
      ],
      "execution_count": 3,
      "outputs": []
    },
    {
      "cell_type": "code",
      "metadata": {
        "id": "TOZiYHGcHn46",
        "colab_type": "code",
        "colab": {
          "base_uri": "https://localhost:8080/",
          "height": 35
        },
        "outputId": "499ce0d3-1e35-48f2-ac33-bc6f0f9745e5"
      },
      "source": [
        "nums[0] + nums[1] == target"
      ],
      "execution_count": 4,
      "outputs": [
        {
          "output_type": "execute_result",
          "data": {
            "text/plain": [
              "True"
            ]
          },
          "metadata": {
            "tags": []
          },
          "execution_count": 4
        }
      ]
    },
    {
      "cell_type": "markdown",
      "metadata": {
        "id": "e7d4nhGzHitV",
        "colab_type": "text"
      },
      "source": [
        "그동안 Brute Force식으로 문제를 많이 풀어왔었는데... 어떻게 하면 문제를 효율적으로 해결할 수 있을까? -20.08.14.Fri.pm1:00-"
      ]
    },
    {
      "cell_type": "code",
      "metadata": {
        "id": "RhdFXK_DG-K8",
        "colab_type": "code",
        "colab": {
          "base_uri": "https://localhost:8080/",
          "height": 35
        },
        "outputId": "2e363a20-729e-4b89-a28b-467621546d0f"
      },
      "source": [
        "for i in range(len(nums)):\n",
        "    # print(i)\n",
        "    for j in range(i+1, len(nums)):\n",
        "        # print(j)\n",
        "        if nums[i] + nums[j] == target:\n",
        "            print(i, j)"
      ],
      "execution_count": 16,
      "outputs": [
        {
          "output_type": "stream",
          "text": [
            "0 1\n"
          ],
          "name": "stdout"
        }
      ]
    },
    {
      "cell_type": "markdown",
      "metadata": {
        "id": "Kp5WPOe4JasW",
        "colab_type": "text"
      },
      "source": [
        "막상 쉬운 문제라도 경험이 없으면... 어버버하다 코테 끝나겠구나...!"
      ]
    },
    {
      "cell_type": "code",
      "metadata": {
        "id": "mvPqQji_JaV6",
        "colab_type": "code",
        "colab": {}
      },
      "source": [
        ""
      ],
      "execution_count": null,
      "outputs": []
    },
    {
      "cell_type": "code",
      "metadata": {
        "id": "Q-Xz-U9_IHbZ",
        "colab_type": "code",
        "colab": {}
      },
      "source": [
        ""
      ],
      "execution_count": null,
      "outputs": []
    }
  ]
}