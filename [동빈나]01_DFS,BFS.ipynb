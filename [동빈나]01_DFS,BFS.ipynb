{
  "nbformat": 4,
  "nbformat_minor": 0,
  "metadata": {
    "colab": {
      "name": "[동빈나]01.DFS,BFS.ipynb",
      "provenance": [],
      "authorship_tag": "ABX9TyOfYHYkMV1WrXsVs2glC+5l",
      "include_colab_link": true
    },
    "kernelspec": {
      "name": "python3",
      "display_name": "Python 3"
    }
  },
  "cells": [
    {
      "cell_type": "markdown",
      "metadata": {
        "id": "view-in-github",
        "colab_type": "text"
      },
      "source": [
        "<a href=\"https://colab.research.google.com/github/Steve-YJ/DataStructure-Algorithm-with-Python-from-basic/blob/master/%5B%EB%8F%99%EB%B9%88%EB%82%98%5D01_DFS%2CBFS.ipynb\" target=\"_parent\"><img src=\"https://colab.research.google.com/assets/colab-badge.svg\" alt=\"Open In Colab\"/></a>"
      ]
    },
    {
      "cell_type": "markdown",
      "metadata": {
        "id": "UAmtbwN4xXLi",
        "colab_type": "text"
      },
      "source": [
        "# DFS\n",
        "* Depth-First-Search\n",
        "    * 깊이 우선 탐색\n",
        "    * 그래프에서 깊은 부분을 우선적으로 탐구하는 알고리즘이다\n",
        "\n",
        "* DFS 동작 과정\n",
        "    * 1. 탐색의 시작노드를 스택에 삽입하고 방문 처리를 한다\n",
        "    * 2. 스택의 최상단 노드에 방문하지 않은 인접노드가 하나라도 있다면 그 노드를 스택에 넣고 방문 처리 한다. \n",
        "        * 방문하지 않은 인접 노드가 없으면 스택에서 최상단 노드를 꺼낸다\n",
        "    * 3. 더이상 2번의 과정을 수행할 수 없을 때까지 반복한다 "
      ]
    },
    {
      "cell_type": "markdown",
      "metadata": {
        "id": "NbxTuNJ9Nrho",
        "colab_type": "text"
      },
      "source": [
        "## DFS 소스코드 예제(Python)"
      ]
    },
    {
      "cell_type": "code",
      "metadata": {
        "id": "P-2QCUleWOMu",
        "colab_type": "code",
        "colab": {}
      },
      "source": [
        "# 각 노드가 연결된 정보를 표현(2차원 리스트)\n",
        "graph = [\n",
        "         [],\n",
        "         [2, 3, 8],\n",
        "         [1, 7],\n",
        "         [1, 4, 5],\n",
        "         [3, 5],\n",
        "         [3, 4],\n",
        "         [7],\n",
        "         [2, 6, 8],\n",
        "         [1, 7]\n",
        "]\n",
        "\n",
        "# 각 노드가 방문된 정보를 표현 (1차원 리스트)\n",
        "visited = [False] * 9"
      ],
      "execution_count": 21,
      "outputs": []
    },
    {
      "cell_type": "code",
      "metadata": {
        "id": "nbp2vD4AyNIV",
        "colab_type": "code",
        "colab": {
          "base_uri": "https://localhost:8080/",
          "height": 53
        },
        "outputId": "563f3053-b5d5-44e5-a764-ba1b631c63ef"
      },
      "source": [
        "print(graph)\n",
        "print(visited)"
      ],
      "execution_count": 22,
      "outputs": [
        {
          "output_type": "stream",
          "text": [
            "[[], [2, 3, 8], [1, 7], [1, 4, 5], [3, 5], [3, 4], [7], [2, 6, 8], [1, 7]]\n",
            "[False, False, False, False, False, False, False, False, False]\n"
          ],
          "name": "stdout"
        }
      ]
    },
    {
      "cell_type": "code",
      "metadata": {
        "id": "iqXRLtBzWKE3",
        "colab_type": "code",
        "colab": {}
      },
      "source": [
        "# DFS 메서드를 직접 정의해보자\n",
        "def dfs(graph, v, visited):\n",
        "    visited[v] = True  # stack: 방문처리를 위해 stack 자료구조 활용\n",
        "    print(v, end=' ')\n",
        "    # 재귀 함수 사용\n",
        "    for i in graph[v]:\n",
        "        if not visited[i]:  # 이 코드의 의미가 무엇인가?! -20.09.18.Fri- am10:20\n",
        "                            # 방문하지 않은 노드라면 True! \n",
        "            dfs(graph, i, visited)  # 깊이 탐색은 이렇게 하면 될 것 같은데... 예외처리는 어떻게 해야할까?!\n"
      ],
      "execution_count": 23,
      "outputs": []
    },
    {
      "cell_type": "code",
      "metadata": {
        "id": "xRouEOsbNidK",
        "colab_type": "code",
        "colab": {
          "base_uri": "https://localhost:8080/",
          "height": 35
        },
        "outputId": "e36ebd90-d016-4f59-8704-975467d67cf7"
      },
      "source": [
        "dfs(graph, 1, visited)"
      ],
      "execution_count": 24,
      "outputs": [
        {
          "output_type": "stream",
          "text": [
            "1 2 7 6 8 3 4 5 "
          ],
          "name": "stdout"
        }
      ]
    },
    {
      "cell_type": "code",
      "metadata": {
        "id": "rZ9O_Bct0qRy",
        "colab_type": "code",
        "colab": {
          "base_uri": "https://localhost:8080/",
          "height": 89
        },
        "outputId": "51931119-af10-43b8-ea2d-481bcb73e8fa"
      },
      "source": [
        "visited = [0] * 2\n",
        "print(visited)\n",
        "visited[0] = 1\n",
        "print(visited)\n",
        "\n",
        "print('='*20)\n",
        "\n",
        "if not visited[1]:\n",
        "    print(True)"
      ],
      "execution_count": 15,
      "outputs": [
        {
          "output_type": "stream",
          "text": [
            "[0, 0]\n",
            "[1, 0]\n",
            "====================\n",
            "True\n"
          ],
          "name": "stdout"
        }
      ]
    },
    {
      "cell_type": "markdown",
      "metadata": {
        "id": "EfV3TBwl1yne",
        "colab_type": "text"
      },
      "source": [
        "## Appendix\n",
        "### 01. Python 'If not' syntax"
      ]
    },
    {
      "cell_type": "markdown",
      "metadata": {
        "id": "x6_42B0e2KiB",
        "colab_type": "text"
      },
      "source": [
        "What does <code>if not</code> try to say? -20.09.18.Fri-<br>\n",
        "\n",
        "<br>\n",
        "Reference: https://stackoverflow.com/questions/16739555/python-if-not-syntax"
      ]
    },
    {
      "cell_type": "code",
      "metadata": {
        "id": "pPuxBWba122p",
        "colab_type": "code",
        "colab": {}
      },
      "source": [
        "# E.g\n",
        "\n",
        "def foo(bar = None):\n",
        "    if not bar:\n",
        "        bar = 2"
      ],
      "execution_count": 10,
      "outputs": []
    },
    {
      "cell_type": "code",
      "metadata": {
        "id": "BYcwk4No2Aeg",
        "colab_type": "code",
        "colab": {}
      },
      "source": [
        "foo(3)"
      ],
      "execution_count": 11,
      "outputs": []
    },
    {
      "cell_type": "markdown",
      "metadata": {
        "id": "7iyrSl2h2d0i",
        "colab_type": "text"
      },
      "source": [
        "* Answer\n",
        "    * There are subtle difference between <code>if bar is not None</code> and <code>If not bar</code>\n",
        "\n",
        "* <code>if not bar</code>: will execute if <code>bar</code> is any kind of zero or empty container, or <code>False</code> \n",
        "\n",
        "* Many people do use <code>not bar</code> where they really do mean <code>bar is not None</code>"
      ]
    },
    {
      "cell_type": "markdown",
      "metadata": {
        "id": "ocM1fVPG49DD",
        "colab_type": "text"
      },
      "source": [
        "### 02. Python not operator example with if statement\n",
        "\n",
        "* Reference: https://www.jquery-az.com/4-demos-python-if-not-and-not-in-operator/"
      ]
    },
    {
      "cell_type": "code",
      "metadata": {
        "id": "Aqqp_vNG2CqI",
        "colab_type": "code",
        "colab": {
          "base_uri": "https://localhost:8080/",
          "height": 35
        },
        "outputId": "2fc6b91c-73bb-4089-b020-78f4bd2e3ba3"
      },
      "source": [
        "# A demo of Python 'not' operator\n",
        "\n",
        "x = 10\n",
        "\n",
        "if not x > 10:\n",
        "    print(\"not retured True\")\n",
        "\n",
        "else:\n",
        "    print(\"not retured False\")\n",
        "\n",
        "\n",
        "# Can you guess it?\n",
        "# I guess that it may be \"not retured True\"\n"
      ],
      "execution_count": 16,
      "outputs": [
        {
          "output_type": "stream",
          "text": [
            "not retured True\n"
          ],
          "name": "stdout"
        }
      ]
    },
    {
      "cell_type": "markdown",
      "metadata": {
        "id": "TvPLK5E95qif",
        "colab_type": "text"
      },
      "source": [
        "<code>Comment</code><br> \n",
        "* As x>10 is False, so not operator evaluated as True\n",
        "    * x>10 == False -> not False -> True\n",
        "* Thus the if statement is True and code inside the if statement executed. "
      ]
    }
  ]
}