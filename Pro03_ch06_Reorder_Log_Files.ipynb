{
  "nbformat": 4,
  "nbformat_minor": 0,
  "metadata": {
    "colab": {
      "name": "Pro03.ch06.Reorder Log Files.ipynb",
      "provenance": [],
      "authorship_tag": "ABX9TyPJvs1TvQ5iGly4+4CAM57L",
      "include_colab_link": true
    },
    "kernelspec": {
      "name": "python3",
      "display_name": "Python 3"
    }
  },
  "cells": [
    {
      "cell_type": "markdown",
      "metadata": {
        "id": "view-in-github",
        "colab_type": "text"
      },
      "source": [
        "<a href=\"https://colab.research.google.com/github/Steve-YJ/DataStructure-Algorithm-with-Python-from-basic/blob/master/Pro03_ch06_Reorder_Log_Files.ipynb\" target=\"_parent\"><img src=\"https://colab.research.google.com/assets/colab-badge.svg\" alt=\"Open In Colab\"/></a>"
      ]
    },
    {
      "cell_type": "markdown",
      "metadata": {
        "id": "1WW9qSJvAPhv",
        "colab_type": "text"
      },
      "source": [
        "# Chap06. P03. Reorder LogFiles\n",
        "\n",
        "You have an array of logs. Each log is a space delimited string of words\n",
        "<br>\n",
        "<br>\n",
        "* For each log, the first word in each log is an alphanumeric identifier. \n",
        "    * Each word after the identifier will consist only of lowercase letters, or\n",
        "    * Each word after the identifier will consist only of digits\n",
        "\n",
        "* Do-it\n",
        "    * Reorder the logs so that all of the letter-logs come before any digit-log"
      ]
    },
    {
      "cell_type": "markdown",
      "metadata": {
        "id": "JWLug1xsCESB",
        "colab_type": "text"
      },
      "source": [
        "1. 로그의 가장 앞 부분은 식별자다<br>\n",
        "2. 문자로 구성된 로그가 숫자 로그보다 앞에 온다<br>\n",
        "=> 로그를 보면 문자로만 구성된 로그가 있다\n",
        "<br>\n",
        "3. 식별자는 순서에 영향을 끼치지 않지만, 문자가 동일할 경우 식별자 순으로 한다.<br>\n",
        "4. 숫자 로그는 입력 순서대로 한다\n"
      ]
    },
    {
      "cell_type": "markdown",
      "metadata": {
        "id": "cZy7eaprC3Xg",
        "colab_type": "text"
      },
      "source": [
        "--- \n",
        "실무에서도 자주 사용되는 로직으로 매우 실용적인 문제라고 한다.<br>\n",
        "\n",
        "주어진 요구 조건을 얼마나 깔끔하게 처리할 수 있느냐가 포인트다...!\n",
        "---"
      ]
    },
    {
      "cell_type": "code",
      "metadata": {
        "id": "GCHNagx4AIQ5",
        "colab_type": "code",
        "colab": {}
      },
      "source": [
        "# Input: \n",
        "\n",
        "logs = [\"dig1 8 1 5 1\",\"let1 art can\",\"dig2 3 6\",\"let2 own kit dig\",\"let3 art zero\"]"
      ],
      "execution_count": 1,
      "outputs": []
    },
    {
      "cell_type": "code",
      "metadata": {
        "id": "7M6Rb_NaMsRo",
        "colab_type": "code",
        "colab": {
          "base_uri": "https://localhost:8080/",
          "height": 104
        },
        "outputId": "0058f08e-2398-4751-a25e-d29c6940d8d0"
      },
      "source": [
        "logs"
      ],
      "execution_count": 2,
      "outputs": [
        {
          "output_type": "execute_result",
          "data": {
            "text/plain": [
              "['dig1 8 1 5 1',\n",
              " 'let1 art can',\n",
              " 'dig2 3 6',\n",
              " 'let2 own kit dig',\n",
              " 'let3 art zero']"
            ]
          },
          "metadata": {
            "tags": []
          },
          "execution_count": 2
        }
      ]
    },
    {
      "cell_type": "code",
      "metadata": {
        "id": "fCPI99P5Msw0",
        "colab_type": "code",
        "colab": {}
      },
      "source": [
        "def func(logs):\n",
        "    letters, digits = [], []\n",
        "\n",
        "    for log in logs:\n",
        "        if log.split()[1].isdigit():\n",
        "            digits.append(log)\n",
        "        else:\n",
        "            letters.append(log)\n",
        "\n",
        "    letters.sort(key=lambda x: (x.split()[1:], x.split()[0]))\n",
        "\n",
        "    print(letters+digits)\n",
        "    return letters + digits"
      ],
      "execution_count": 11,
      "outputs": []
    },
    {
      "cell_type": "code",
      "metadata": {
        "id": "5mdrJ4GMNR01",
        "colab_type": "code",
        "colab": {
          "base_uri": "https://localhost:8080/",
          "height": 121
        },
        "outputId": "dac23c7a-0870-4a0e-849d-22d11f4fed1b"
      },
      "source": [
        "func(logs)"
      ],
      "execution_count": 12,
      "outputs": [
        {
          "output_type": "stream",
          "text": [
            "['let1 art can', 'let3 art zero', 'let2 own kit dig', 'dig1 8 1 5 1', 'dig2 3 6']\n"
          ],
          "name": "stdout"
        },
        {
          "output_type": "execute_result",
          "data": {
            "text/plain": [
              "['let1 art can',\n",
              " 'let3 art zero',\n",
              " 'let2 own kit dig',\n",
              " 'dig1 8 1 5 1',\n",
              " 'dig2 3 6']"
            ]
          },
          "metadata": {
            "tags": []
          },
          "execution_count": 12
        }
      ]
    },
    {
      "cell_type": "markdown",
      "metadata": {
        "id": "QO4nclZ-Ze0H",
        "colab_type": "text"
      },
      "source": [
        "## Again, \n",
        "* 문제 다시 풀어보기\n",
        "* 20.09.01.tue. am 11:00\n"
      ]
    },
    {
      "cell_type": "code",
      "metadata": {
        "id": "pRnv-Y1tZj7V",
        "colab_type": "code",
        "colab": {}
      },
      "source": [
        "logs = [\"dig1 8 1 5 1\",\"let1 art can\",\"dig2 3 6\",\"let2 own kit dig\",\"let3 art zero\"]"
      ],
      "execution_count": 1,
      "outputs": []
    },
    {
      "cell_type": "code",
      "metadata": {
        "id": "NSEgH_lfZkfl",
        "colab_type": "code",
        "colab": {
          "base_uri": "https://localhost:8080/",
          "height": 121
        },
        "outputId": "3dd22ffd-7a04-4f42-9cd6-9bca64e9360a"
      },
      "source": [
        "letters, digits = [], []\n",
        "\n",
        "for log in logs:\n",
        "    if log.split()[1].isdigit():\n",
        "        digits.append(log)\n",
        "    else:\n",
        "        letters.append(log)\n",
        "\n",
        "# print(letters, digits)\n",
        "letters.sort(key=lambda x: (x.split()[1], x.split()[0]))\n",
        "print(letters)\n",
        "letters+digits"
      ],
      "execution_count": 9,
      "outputs": [
        {
          "output_type": "stream",
          "text": [
            "['let1 art can', 'let3 art zero', 'let2 own kit dig']\n"
          ],
          "name": "stdout"
        },
        {
          "output_type": "execute_result",
          "data": {
            "text/plain": [
              "['let1 art can',\n",
              " 'let3 art zero',\n",
              " 'let2 own kit dig',\n",
              " 'dig1 8 1 5 1',\n",
              " 'dig2 3 6']"
            ]
          },
          "metadata": {
            "tags": []
          },
          "execution_count": 9
        }
      ]
    },
    {
      "cell_type": "code",
      "metadata": {
        "id": "EcTC9HVHNmdU",
        "colab_type": "code",
        "colab": {
          "base_uri": "https://localhost:8080/",
          "height": 35
        },
        "outputId": "36e5a94a-fc7d-4fda-ff4c-8126948b4fc8"
      },
      "source": [
        "letters = ['let1 art can', 'let2 own kit dig', 'let3 art zero'] \n",
        "letters"
      ],
      "execution_count": 4,
      "outputs": [
        {
          "output_type": "execute_result",
          "data": {
            "text/plain": [
              "['let1 art can', 'let2 own kit dig', 'let3 art zero']"
            ]
          },
          "metadata": {
            "tags": []
          },
          "execution_count": 4
        }
      ]
    },
    {
      "cell_type": "code",
      "metadata": {
        "id": "4RH1nihWaiq3",
        "colab_type": "code",
        "colab": {
          "base_uri": "https://localhost:8080/",
          "height": 35
        },
        "outputId": "15a25955-08e9-4eb1-da30-6c8440f4358e"
      },
      "source": [
        "letters.sort(key=lambda x: (x.split()[1], x.split()[0]))\n",
        "letters"
      ],
      "execution_count": 10,
      "outputs": [
        {
          "output_type": "execute_result",
          "data": {
            "text/plain": [
              "['let1 art can', 'let3 art zero', 'let2 own kit dig']"
            ]
          },
          "metadata": {
            "tags": []
          },
          "execution_count": 10
        }
      ]
    },
    {
      "cell_type": "code",
      "metadata": {
        "id": "gf5EPIM1a8yb",
        "colab_type": "code",
        "colab": {}
      },
      "source": [
        ""
      ],
      "execution_count": null,
      "outputs": []
    }
  ]
}