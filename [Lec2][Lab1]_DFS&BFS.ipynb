{
  "nbformat": 4,
  "nbformat_minor": 0,
  "metadata": {
    "colab": {
      "name": "[Lec2][Lab1] DFS&BFS.ipynb",
      "provenance": [],
      "authorship_tag": "ABX9TyMGDyr77vpOLTU+F3gBVHyz",
      "include_colab_link": true
    },
    "kernelspec": {
      "name": "python3",
      "display_name": "Python 3"
    }
  },
  "cells": [
    {
      "cell_type": "markdown",
      "metadata": {
        "id": "view-in-github",
        "colab_type": "text"
      },
      "source": [
        "<a href=\"https://colab.research.google.com/github/Steve-YJ/DataStructure-Algorithm-with-Python-from-basic/blob/master/%5BLec2%5D%5BLab1%5D_DFS%26BFS.ipynb\" target=\"_parent\"><img src=\"https://colab.research.google.com/assets/colab-badge.svg\" alt=\"Open In Colab\"/></a>"
      ]
    },
    {
      "cell_type": "markdown",
      "metadata": {
        "id": "8Y95ST2yTIka"
      },
      "source": [
        "# DFS"
      ]
    },
    {
      "cell_type": "markdown",
      "metadata": {
        "id": "rvSOl4LSTW6Y"
      },
      "source": [
        "* 각 노드가 연결된 정보 표현(2차원 리스트)\n",
        "* 각 노드가 방문된 정보 표현(1차원 리스트)\n",
        "* DFS 메서드 정의"
      ]
    },
    {
      "cell_type": "code",
      "metadata": {
        "id": "7w-gxpGhTJ4r"
      },
      "source": [
        "# 각 노드가 연결된 정보 표현(2차원 리스트)\n",
        "\n",
        "graph = [\n",
        "         [],         # 0번 째 노드는 빈 리스트로 초기화 해준다\n",
        "         [2, 3, 8],  # 1번째 노드의 인접 노드를 인덱스로 접근할 수 있도록 0번째 노드 초기화 \n",
        "         [1, 7],\n",
        "         [1, 4, 5],\n",
        "         [3, 5],\n",
        "         [3, 4],\n",
        "         [7],\n",
        "         [2, 6, 8],\n",
        "         [1, 7]\n",
        "]\n",
        "\n",
        "# 각 노드가 방문된 정보를 표현 (1차원 리스트)\n",
        "visited = [False] * 9"
      ],
      "execution_count": 1,
      "outputs": []
    },
    {
      "cell_type": "code",
      "metadata": {
        "id": "DIVmDn6WUOfy",
        "outputId": "89f60017-aa60-4f21-956e-28b37128161d",
        "colab": {
          "base_uri": "https://localhost:8080/",
          "height": 52
        }
      },
      "source": [
        "print(graph)\n",
        "print(visited)"
      ],
      "execution_count": 2,
      "outputs": [
        {
          "output_type": "stream",
          "text": [
            "[[], [2, 3, 8], [1, 7], [1, 4, 5], [3, 5], [3, 4], [7], [2, 6, 8], [1, 7]]\n",
            "[False, False, False, False, False, False, False, False, False]\n"
          ],
          "name": "stdout"
        }
      ]
    },
    {
      "cell_type": "code",
      "metadata": {
        "id": "Xx5_MwczOvhO"
      },
      "source": [
        "# DFS 메서드 정의\n",
        "\n",
        "def dfs(graph, v, visited):\n",
        "    visited[v] = True\n",
        "    print(v, end=' ')\n",
        "    # 현재 노드와 연결된 다른노드(인접노드) 재귀적 방문\n",
        "    for i in graph[v]:\n",
        "        if not visited[i]:  # 방문하지 않은 노드가 있다면\n",
        "           dfs(graph, i, visited)"
      ],
      "execution_count": 3,
      "outputs": []
    },
    {
      "cell_type": "code",
      "metadata": {
        "id": "5xwqu4iPU9nS",
        "outputId": "ca25c74c-b48d-4157-87a4-78fb1d89daa6",
        "colab": {
          "base_uri": "https://localhost:8080/",
          "height": 34
        }
      },
      "source": [
        "dfs(graph, 1, visited)"
      ],
      "execution_count": 4,
      "outputs": [
        {
          "output_type": "stream",
          "text": [
            "1 2 7 6 8 3 4 5 "
          ],
          "name": "stdout"
        }
      ]
    },
    {
      "cell_type": "code",
      "metadata": {
        "id": "IgPRe9bHU_zZ"
      },
      "source": [
        ""
      ],
      "execution_count": null,
      "outputs": []
    }
  ]
}