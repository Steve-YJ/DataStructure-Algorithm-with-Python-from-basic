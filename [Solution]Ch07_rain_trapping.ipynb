{
  "nbformat": 4,
  "nbformat_minor": 0,
  "metadata": {
    "colab": {
      "name": "[Solution]Ch07. rain_trapping.ipynb",
      "provenance": [],
      "authorship_tag": "ABX9TyO8I4UCLaQ2aQ0IfaQK0l0y",
      "include_colab_link": true
    },
    "kernelspec": {
      "name": "python3",
      "display_name": "Python 3"
    }
  },
  "cells": [
    {
      "cell_type": "markdown",
      "metadata": {
        "id": "view-in-github",
        "colab_type": "text"
      },
      "source": [
        "<a href=\"https://colab.research.google.com/github/Steve-YJ/DataStructure-Algorithm-with-Python-from-basic/blob/master/%5BSolution%5DCh07_rain_trapping.ipynb\" target=\"_parent\"><img src=\"https://colab.research.google.com/assets/colab-badge.svg\" alt=\"Open In Colab\"/></a>"
      ]
    },
    {
      "cell_type": "markdown",
      "metadata": {
        "id": "1c8QlVOLR-nm",
        "colab_type": "text"
      },
      "source": [
        "* 책의 Solution을 조금 참조\n",
        "* Two-pointer의 개념과 적용과정에서 방법 생각해보기"
      ]
    },
    {
      "cell_type": "markdown",
      "metadata": {
        "id": "sZsWRgPFSLN5",
        "colab_type": "text"
      },
      "source": [
        "나의 풀이 -20.08.27.thur- am 9:00"
      ]
    },
    {
      "cell_type": "code",
      "metadata": {
        "id": "_-UFsH7MR5L0",
        "colab_type": "code",
        "colab": {}
      },
      "source": [
        "class Solution(object):\n",
        "    def trap(self, height):\n",
        "        \"\"\"\n",
        "        :type height: List[int]\n",
        "        :rtype: int\n",
        "        \"\"\"\n",
        "        '''\n",
        "        Morning-Algo: 20.08.27.Thur am 8:57\n",
        "        '''\n",
        "        \n",
        "        \n",
        "        if not height:  # Q. what is if not?!\n",
        "            return 0\n",
        "        \n",
        "        volume = 0\n",
        "        left, right = 0, len(height)-1\n",
        "        max_left, max_right = height[left], height[right]\n",
        "        \n",
        "        while left < right:\n",
        "            if max_left <= max_right:\n",
        "                volume += max_left - height[left]\n",
        "                left +=1\n",
        "                max_left = max(height[left], max_left)\n",
        "                \n",
        "            else: \n",
        "                volume += max_right - height[right]\n",
        "                right -=1\n",
        "                max_right = max(height[right], max_right)\n",
        "                \n",
        "        return volume\n",
        "            \n",
        "            "
      ],
      "execution_count": 1,
      "outputs": []
    },
    {
      "cell_type": "code",
      "metadata": {
        "id": "uFWOCIGjSKxW",
        "colab_type": "code",
        "colab": {
          "base_uri": "https://localhost:8080/",
          "height": 35
        },
        "outputId": "046ee43f-1b32-4188-f973-7daccfc666c1"
      },
      "source": [
        "height = [0, 1, 0, 2, 1, 0, 1,  3, 2, 1, 2, 1]\n",
        "\n",
        "a = Solution()\n",
        "a.trap(height)"
      ],
      "execution_count": 5,
      "outputs": [
        {
          "output_type": "execute_result",
          "data": {
            "text/plain": [
              "6"
            ]
          },
          "metadata": {
            "tags": []
          },
          "execution_count": 5
        }
      ]
    },
    {
      "cell_type": "code",
      "metadata": {
        "id": "HT_jS4cSSVAr",
        "colab_type": "code",
        "colab": {}
      },
      "source": [
        ""
      ],
      "execution_count": null,
      "outputs": []
    }
  ]
}