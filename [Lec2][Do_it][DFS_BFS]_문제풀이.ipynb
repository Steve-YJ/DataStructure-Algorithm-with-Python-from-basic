{
  "nbformat": 4,
  "nbformat_minor": 0,
  "metadata": {
    "colab": {
      "name": "[Lec2][Do-it][DFS-BFS] 문제풀이.ipynb",
      "provenance": [],
      "collapsed_sections": [],
      "authorship_tag": "ABX9TyMAlHFMhuWfagGmOZoLPSc6",
      "include_colab_link": true
    },
    "kernelspec": {
      "name": "python3",
      "display_name": "Python 3"
    }
  },
  "cells": [
    {
      "cell_type": "markdown",
      "metadata": {
        "id": "view-in-github",
        "colab_type": "text"
      },
      "source": [
        "<a href=\"https://colab.research.google.com/github/Steve-YJ/DataStructure-Algorithm-with-Python-from-basic/blob/master/%5BLec2%5D%5BDo_it%5D%5BDFS_BFS%5D_%EB%AC%B8%EC%A0%9C%ED%92%80%EC%9D%B4.ipynb\" target=\"_parent\"><img src=\"https://colab.research.google.com/assets/colab-badge.svg\" alt=\"Open In Colab\"/></a>"
      ]
    },
    {
      "cell_type": "markdown",
      "metadata": {
        "id": "WDbnvij_EdEH"
      },
      "source": [
        "# DFS, BFS 문제풀이"
      ]
    },
    {
      "cell_type": "markdown",
      "metadata": {
        "id": "jqLfGfa-Etkz"
      },
      "source": [
        "## 문제 1. 음료수 얼려 먹기\n",
        "* 노드의 지점에 대해서 방문처리를 어떻게 할 것인가"
      ]
    },
    {
      "cell_type": "markdown",
      "metadata": {
        "id": "4rV9-JmTG0sq"
      },
      "source": [
        "📌 <code>Copy the Code</code>"
      ]
    },
    {
      "cell_type": "code",
      "metadata": {
        "id": "5U73YQZt6WWR",
        "outputId": "a99be84f-2ef3-4fdd-dc19-2141558830f4",
        "colab": {
          "base_uri": "https://localhost:8080/",
          "height": 141
        }
      },
      "source": [
        "# N, M을 공백을 기준으로 구분하여 입력 받기\n",
        "n, m = map(int, input().split())\n",
        "print('print-n,m: ', n, m)\n",
        "\n",
        "# 2차원 리스트의 맵 정보 입력 받기\n",
        "graph = []\n",
        "for i in range(n):\n",
        "    graph.append(list(map(int, input())))\n",
        "\n",
        "print('print-graph: ', graph)"
      ],
      "execution_count": 7,
      "outputs": [
        {
          "output_type": "stream",
          "text": [
            "4 5\n",
            "print-n,m:  4 5\n",
            "00110\n",
            "00011\n",
            "11111\n",
            "00000\n",
            "print-graph:  [[0, 0, 1, 1, 0], [0, 0, 0, 1, 1], [1, 1, 1, 1, 1], [0, 0, 0, 0, 0]]\n"
          ],
          "name": "stdout"
        }
      ]
    },
    {
      "cell_type": "code",
      "metadata": {
        "id": "ViL9LdNnHrvr"
      },
      "source": [
        "# DFS로 특정 노드를 방문하고 연결된 모든 노드들도 방문\n",
        "def dfs(x, y):\n",
        "    # 주어진 범위를 벗어나는 경우에는 즉시 종료\n",
        "    if x <= -1 or x >= n or y <= -1 or y>=m:\n",
        "        return False\n",
        "    # 현재 노드를 아직 방문하지 않았다면\n",
        "    if graph[x][y] == 0:\n",
        "        # 해당 노드 방문 처리\n",
        "        graph[x][y] = 1\n",
        "        # 상, 하, 좌, 우의 위치들도 모두 재귀적으로 호출\n",
        "        dfs(x-1, y)\n",
        "        dfs(x, y-1)\n",
        "        dfs(x+1, y)\n",
        "        dfs(x, y+1)\n",
        "        return True\n",
        "    return False"
      ],
      "execution_count": 9,
      "outputs": []
    },
    {
      "cell_type": "code",
      "metadata": {
        "id": "JlSPAKwHKaJQ",
        "outputId": "71c43ff5-4f3d-436f-95a5-4b8b4e08045b",
        "colab": {
          "base_uri": "https://localhost:8080/",
          "height": 34
        }
      },
      "source": [
        "# 모든 노드에 음료수 채우기\n",
        "result = 0\n",
        "for i in range(n):\n",
        "    for j in range(m):\n",
        "        # 현재 위치에서 DFS 수행\n",
        "        if dfs(i, j) == True:\n",
        "            result += 1\n",
        "\n",
        "print(result)"
      ],
      "execution_count": 10,
      "outputs": [
        {
          "output_type": "stream",
          "text": [
            "3\n"
          ],
          "name": "stdout"
        }
      ]
    },
    {
      "cell_type": "markdown",
      "metadata": {
        "id": "RauaoMhOKpxh"
      },
      "source": [
        "## 복기"
      ]
    },
    {
      "cell_type": "markdown",
      "metadata": {
        "id": "SXRJmYuVM_ry"
      },
      "source": [
        "1. 입력을 받고 2차원 리스트를 만들어준다"
      ]
    },
    {
      "cell_type": "code",
      "metadata": {
        "id": "7v66RWVMKntW",
        "outputId": "8c0d2676-7bb0-4172-f694-277370625448",
        "colab": {
          "base_uri": "https://localhost:8080/",
          "height": 141
        }
      },
      "source": [
        "# N, M을 공백 기준으로 입력 받기\n",
        "n, m = map(int, input().split())\n",
        "print(n, m)\n",
        "\n",
        "# 2차원 리스트의 맵 정보 입력 받기\n",
        "graph = []\n",
        "for i in range(n):\n",
        "    graph.append(list(map(int, input())))\n",
        "\n",
        "print(graph)"
      ],
      "execution_count": 38,
      "outputs": [
        {
          "output_type": "stream",
          "text": [
            "4 5\n",
            "4 5\n",
            "00110\n",
            "00011\n",
            "11111\n",
            "00000\n",
            "[[0, 0, 1, 1, 0], [0, 0, 0, 1, 1], [1, 1, 1, 1, 1], [0, 0, 0, 0, 0]]\n"
          ],
          "name": "stdout"
        }
      ]
    },
    {
      "cell_type": "markdown",
      "metadata": {
        "id": "Z8bHQp-YNCN-"
      },
      "source": [
        "2. 완전탐색을 어떻게 해야할까"
      ]
    },
    {
      "cell_type": "code",
      "metadata": {
        "id": "0q0hCFcxMxuX"
      },
      "source": [
        "# DFS로 특정 노드를 방문하고 연결된 모든 노드들도 방문\n",
        "def dfs(x, y):\n",
        "    # 주어진 범위를 벗어나는 경우에는 즉시 종료\n",
        "    if x <= -1 or y <=-1 or x >=n or y >=m:\n",
        "        return False  # 벗어나는 경우 종료\n",
        "    # 현재 노드를 아직 방문하지 않았다면\n",
        "    if graph[x][y] == 0:\n",
        "        # 해당 노드 방문 처리\n",
        "        graph[x][y] = 1\n",
        "        # 상, 하, 좌, 우의 위치들도 모두 재귀적으로 호출\n",
        "        dfs(x, y+1)\n",
        "        dfs(x, y-1)\n",
        "        dfs(x-1, y)\n",
        "        dfs(x+1, y)\n",
        "        return True\n",
        "    return False"
      ],
      "execution_count": 39,
      "outputs": []
    },
    {
      "cell_type": "code",
      "metadata": {
        "id": "FfVhb0VkOJ46",
        "outputId": "26d91344-34ca-4e90-8bff-03d97ef09849",
        "colab": {
          "base_uri": "https://localhost:8080/",
          "height": 34
        }
      },
      "source": [
        "# 모든 노드(위치)에 대하여 음료수 채우기\n",
        "result = 0\n",
        "for i in range(n):\n",
        "    for j in range(m):\n",
        "        # 현재 위치에서 DFS 수행\n",
        "        if dfs(i, j) == True:  # 현재 노드에서 방문처리가 되었다면 카운팅을 한다\n",
        "            result += 1\n",
        "\n",
        "print(result)"
      ],
      "execution_count": 40,
      "outputs": [
        {
          "output_type": "stream",
          "text": [
            "3\n"
          ],
          "name": "stdout"
        }
      ]
    },
    {
      "cell_type": "markdown",
      "metadata": {
        "id": "BSqZsHZEUq6w"
      },
      "source": [
        "## 문제 2. 미로 탈출"
      ]
    },
    {
      "cell_type": "markdown",
      "metadata": {
        "id": "T-BOU-vqVBtT"
      },
      "source": [
        "* N x M 크기의 직사각형 형태의 미로에 갇혔다. 미로에는 여러 마리의 괴물이 있어 이를 피해 탈출해야한다\n",
        "* 현재 위치는 (1,1)이며 미로의 출구는 (N,M)의 위치에 존재하며 한 번에 한 칸씩 이동할 수 있다. 이 때 괴물이 있는 부분은 0으로, 없는 부분은 1로 표시되어있다. \n",
        "* 이 때 탈출을 위해 움직여야 하는 최소 칸의 개수를 구하세요. 칸을 셀 때는 시작 칸과 마지막 칸을 모두 포함해서 계산합니다."
      ]
    },
    {
      "cell_type": "markdown",
      "metadata": {
        "id": "-hJLtgq8f-OW"
      },
      "source": [
        "### 풀이"
      ]
    },
    {
      "cell_type": "markdown",
      "metadata": {
        "id": "YqWNAhypgAeC"
      },
      "source": [
        "* BFS는 간선의 비용이 모두 같을 때 최단거리를 탐색하기 위해 사용할 수 있는 알고리즘이다\n",
        "* 시작 노드에서 상,하,좌,우 탐색을 진행하며 새롭게 방문하는 노드의 값을 노드까지의 거리로 변경한다"
      ]
    },
    {
      "cell_type": "code",
      "metadata": {
        "id": "TdXlc0aYUt86",
        "outputId": "6072bfbc-597d-4f98-ed3b-5e70d2595cde",
        "colab": {
          "base_uri": "https://localhost:8080/",
          "height": 52
        }
      },
      "source": [
        "# N, M을 공백을 기준으로 구분하여 입력 받기\n",
        "n, m = map(int, input().split())\n",
        "print(n, m)"
      ],
      "execution_count": 49,
      "outputs": [
        {
          "output_type": "stream",
          "text": [
            "5 6\n",
            "5 6\n"
          ],
          "name": "stdout"
        }
      ]
    },
    {
      "cell_type": "code",
      "metadata": {
        "id": "W5LhPHBQVkk_",
        "outputId": "d13cd6a1-ad20-4e6d-d68a-675fb6d0e389",
        "colab": {
          "base_uri": "https://localhost:8080/",
          "height": 123
        }
      },
      "source": [
        "# 2차원 리스트의 맵 정보 입력 받기\n",
        "\n",
        "graph = []\n",
        "for i in range(n):\n",
        "    graph.append(list(map(int, input())))\n",
        "\n",
        "print(graph)"
      ],
      "execution_count": 51,
      "outputs": [
        {
          "output_type": "stream",
          "text": [
            "101010\n",
            "111111\n",
            "000001\n",
            "111111\n",
            "111111\n",
            "[[1, 0, 1, 0, 1, 0], [1, 1, 1, 1, 1, 1], [0, 0, 0, 0, 0, 1], [1, 1, 1, 1, 1, 1], [1, 1, 1, 1, 1, 1]]\n"
          ],
          "name": "stdout"
        }
      ]
    },
    {
      "cell_type": "code",
      "metadata": {
        "id": "PwbhITzDdWu0"
      },
      "source": [
        "# 이동할 네 가지 방향 정의 (상, 하, 좌, 우)\n",
        "dx = [-1, 1, 0, 0]\n",
        "dy = [0, 0, -1, 1]"
      ],
      "execution_count": 52,
      "outputs": []
    },
    {
      "cell_type": "code",
      "metadata": {
        "id": "lXpr1rh5VkoG"
      },
      "source": [
        "from collections import deque\n",
        "\n",
        "# BFS 소스코드 구현\n",
        "def bfs(x, y):\n",
        "    # 큐(Queue) 구현을 위해 deque라이브러리 사용\n",
        "    queue = deque()\n",
        "    queue.append((x, y))\n",
        "    # 큐가 빌 때까지 반복하기   \n",
        "    while queue:\n",
        "        x, y = queue.popleft()\n",
        "        # 현재 위치에서 4가지 방향으로의 위치 확인\n",
        "        for i in range(4):\n",
        "            nx = x + dx[i]\n",
        "            ny = y + dy[i]\n",
        "            # 미로 찾기 공간을 벗어난 경우 무시\n",
        "            if nx < 0 or nx >=n or ny < 0 or ny >= m:\n",
        "                continue\n",
        "            # 벽인 경우 무시\n",
        "            if graph[nx][ny] == 0:\n",
        "                continue\n",
        "            # 해당 노드를 처음 방문하는 경우에만 최단 거리 기록\n",
        "            if graph[nx][ny] == 1:\n",
        "                graph[nx][ny] = graph[x][y] + 1  # 직전 노드에서의 거리 값에 1을 더해준다\n",
        "                queue.append((nx, ny))\n",
        "    # 가장 오른쪽 아래까지의 최단 거리 반환\n",
        "    return graph[n-1][m-1]\n"
      ],
      "execution_count": 55,
      "outputs": []
    },
    {
      "cell_type": "code",
      "metadata": {
        "id": "hH-iKZs-VkrO",
        "outputId": "fb70b9c0-8de7-41f7-9582-0da8a562ae2c",
        "colab": {
          "base_uri": "https://localhost:8080/",
          "height": 34
        }
      },
      "source": [
        "print(bfs(0, 0))"
      ],
      "execution_count": 56,
      "outputs": [
        {
          "output_type": "stream",
          "text": [
            "10\n"
          ],
          "name": "stdout"
        }
      ]
    }
  ]
}