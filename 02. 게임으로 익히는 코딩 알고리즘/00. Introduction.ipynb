{
 "cells": [
  {
   "cell_type": "markdown",
   "metadata": {},
   "source": [
    "# 게임으로 익히는 코딩 알고리즘"
   ]
  },
  {
   "cell_type": "markdown",
   "metadata": {},
   "source": [
    "Book Title, 제목부터가 벌써 흥미롭지 않는가?"
   ]
  },
  {
   "cell_type": "markdown",
   "metadata": {},
   "source": [
    "<code>저자의 머릿말</code>도 너무 흥미롭다...<br>\n",
    "동료의 제안으로 우연히 시작하게 된 <code>코딩게임</code>을 통해 난생 처음 코딩을 하면서 희열을 느꼈고, 계속해서 더 나은 방안을 찾고, 경쟁에서 이기기 위해 노력했더니 어느 순간 <code>몰입</code>하고 있는 자신을 발견하게 되었다고 한다.<br>\n",
    "내가 간절히 원했던 것은... 어쩌면 알고리즘을 보다 낫게 구현하는게 아닌 저자처럼 이렇게 코드에 몰입하고자 했던게 아닐까?<br>\n",
    "\"공부를 위한 코딩이 아닌 즐거움을 위한 코딩의 세계로 함께 빠져들기를 바랍니다\"<br>\n",
    "\n",
    "공부를 위해 '파이썬 자료구조와 알고리즘'라는 책을 펼쳤다가 1시간 만에 GG를 선언하고 나왔다... 과연 '게임으로 익히는 코딩 알고리즘'은 이런 내게 <code>'흥미'</code>와 <code>'열정'</code>을 심어줄 수 있을까? -20.03.30.mon. pm11:26"
   ]
  },
  {
   "cell_type": "markdown",
   "metadata": {},
   "source": [
    "## 들어가기 전에"
   ]
  },
  {
   "cell_type": "markdown",
   "metadata": {},
   "source": [
    "### 코딩 게임에 대하여\n",
    "이 책은 코딩게임(www.codingame.com)에서 제공하는 프로그래밍 퍼즐 문제를 하나씩 풀어가면서 코딩과 알고리즘을 학습하는 책이다.<br>\n",
    "* 코딩 게임에는 크게 2가지 모드가 있다.\n",
    "    * 여러 가지 프로그래밍 문제를 온라인상에서 직접 풀어보는 연습 모드와\n",
    "    * 연습 모드에서 갈고 닦은 실력을 바탕으로 다른 개발자와 실력을 겨룰 수 있는 경쟁모드 이다."
   ]
  },
  {
   "cell_type": "markdown",
   "metadata": {},
   "source": [
    "* 이 책은 연습 모드에 있는 여러 문제 중 엄선한 문제를 풀어보는 방식으로 구성되어 있다.\n",
    "* 선정된 문제는 각 절의 핵심 키워드에 부합하는 문제로, 문제를 풀기 위한 방법과 필요한 알고리즘을 학습하고 이를 적용할 수 있도록 하였다."
   ]
  },
  {
   "cell_type": "markdown",
   "metadata": {},
   "source": [
    "####  경쟁 모드의 여러 게임들\n",
    "* AI 봇 만들기\n",
    "* 코드 최적화하기\n",
    "* 코드 골프"
   ]
  },
  {
   "cell_type": "markdown",
   "metadata": {},
   "source": [
    "## 이 책의 구성에 대하여"
   ]
  },
  {
   "cell_type": "markdown",
   "metadata": {},
   "source": [
    "* 문제 설명 -> 풀이 -> 필요 알고리즘 학습 -> 풀어보기 -> 더 생각해보기"
   ]
  },
  {
   "cell_type": "markdown",
   "metadata": {},
   "source": [
    "직접 해보자!"
   ]
  },
  {
   "cell_type": "code",
   "execution_count": null,
   "metadata": {},
   "outputs": [],
   "source": []
  }
 ],
 "metadata": {
  "kernelspec": {
   "display_name": "Python 3",
   "language": "python",
   "name": "python3"
  },
  "language_info": {
   "codemirror_mode": {
    "name": "ipython",
    "version": 3
   },
   "file_extension": ".py",
   "mimetype": "text/x-python",
   "name": "python",
   "nbconvert_exporter": "python",
   "pygments_lexer": "ipython3",
   "version": "3.7.1"
  }
 },
 "nbformat": 4,
 "nbformat_minor": 2
}
