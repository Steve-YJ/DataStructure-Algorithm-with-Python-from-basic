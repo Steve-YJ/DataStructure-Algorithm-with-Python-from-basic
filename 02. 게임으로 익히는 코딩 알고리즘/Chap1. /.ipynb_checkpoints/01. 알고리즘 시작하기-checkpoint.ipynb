{
 "cells": [
  {
   "cell_type": "markdown",
   "metadata": {},
   "source": [
    "# Part 1\n",
    "Part 1에서는(Chap1 ~ Chap5) 코딩 게임을 소개한다. 코딩게임은 무엇이며, 어떻게 학습에 활용하는지 살펴본다.<br>\n",
    "대부분 프로그래밍의 기본적인 문법 사항을 제대로 활용할 수 있는지 물어보는 문제로 <code>제어문</code>, <code>반복문</code>, <code>배열</code>, <code>함수</code>등에 대해 다룬다.<br>\n",
    "또한 프로그램의 기본 로직을 어떻게 만들어 나가는지를 학습한다."
   ]
  },
  {
   "cell_type": "markdown",
   "metadata": {},
   "source": [
    "## 01. 알고리즘 시작하기\n",
    "*알고리즘은 무엇이고 왜 필요할까?*🤔"
   ]
  },
  {
   "cell_type": "markdown",
   "metadata": {},
   "source": [
    "나의 선택 기준은 무엇인가? 어떤 선택이 최선의 선택일까?<br>\n",
    "알고리즘을 어렵게 생각하기 보다는 단순하게 생각해 본다면 서울에서 부산까지 가는 방법을 생각하는 것도 하나의 방법이 될 수 있다.<br>\n",
    "우리는 주어진 환경, 예산, 시간 등을 고려해 서울에서 부산까지 가는 방법 중 최선의 방법을 선택할 것이다.<br>\n",
    "이와 같이 주어진 상황에서 기준에 맞게 최선 또는 최적의 방법을 찾는 것을 <code>알고리즘(Algorithm)</code>라고 한다."
   ]
  },
  {
   "cell_type": "markdown",
   "metadata": {},
   "source": [
    "### 1.1 컴퓨터 알고리즘"
   ]
  },
  {
   "cell_type": "markdown",
   "metadata": {},
   "source": [
    "\"<code>알고리즘</code>은 문제를 해결하는 방법을 말한다.\"<br>\n",
    "<code>컴퓨터 알고리즘</code> 또는 <code>프로그래밍 알고리즘</code>은 컴퓨터 환경에서 프로그래밍 언어를 이용하여 주어진 문제를 해결하기 위한 방법이나 절차를 말한다.<br>\n",
    "**문제를 해결하는 최선 또는 최적의 방법을 말한다.**"
   ]
  },
  {
   "cell_type": "markdown",
   "metadata": {},
   "source": [
    "e.g 퇴근 시간에 강남에서 서울시청까지 가장 빠르게 도달할 수 있는 방법은 무엇일까?<br>\n",
    "특정 제품의 수익을 최대한 얻기 위해 제품 가격은 얼마로 정해야 할까?<br>\n",
    "문제가 주어져 있으며 조건이 있으면 정답을 구해야한다. <br>\n",
    "\n",
    "\n",
    "<code>이동경로 탐색</code>은 컴퓨터 알고리즘을 이용하는 대표적 분야 중 하나이다."
   ]
  },
  {
   "cell_type": "markdown",
   "metadata": {},
   "source": [
    "### 1.2 알고리즘은 왜 필요할까?\n",
    "*그렇다면 알고리즘은 왜 필요할까?*🤔"
   ]
  },
  {
   "cell_type": "markdown",
   "metadata": {},
   "source": [
    "<code>결론</code>부터 말하자면 한정된 자원을 효율적으로 사용하기 위함이다.<br>\n",
    "컴퓨터 환경에서 알고리즘을 사용하는 이유는 CPU 사용량, 응담 처리 시간 또는 메모리 사용량 등을 효율적으로 사용하고 관리하기 위함이다.<br> \n",
    "실행해야 하는 프로그램이 많은데 프로그램이 효율적으로 작성되어 있지 않아 사용자의 요청을 제때 처리하지 못한다면 그 프로그램은 살아남기 힘들 것이다."
   ]
  },
  {
   "cell_type": "markdown",
   "metadata": {},
   "source": [
    "* 사람마다 선택 기준이 다르듯이 프로그램마다 중요하게 여기는 기준도 다르다*<br>\n",
    "컴퓨터 게임과 같이 고성능을 요구하는 프로그램에서는 처리 속도가 가장 중요하다.<br>\n",
    "제한된 메모리를 가지고 있는 하드웨어에서 동작하는 프로그램은 메모리 사용을 최소화하고 효율적으로 사용해야 한다.<br>\n",
    "스마트 폰의 경우 베터리 효율을 위해 CPU사용량을 최소화 해야 할 수 있어야 한다.<br>\n",
    "\n",
    "이처럼 <code>프로그램 요구사항</code>을 정확하게 파악하는 일이 중요하다.\n",
    "\n",
    "**정리**<br>\n",
    "사람마다 기준이 다르듯이 프로그램마다 요구사항이 다르다. 이러한 요구사항에 맞춰 최적의 대안을 만들어 주는 것이 바로 알고리즘이다."
   ]
  },
  {
   "cell_type": "markdown",
   "metadata": {},
   "source": [
    "한편...<br>\n",
    "최근에는 하드웨어의 성능이 매우 뛰어나고 가격도 저렴하여 하드웨어를 확장시키는 일은 비교적 쉽다. <br>\n",
    "반면 소프트웨어의 처리 속도는 아직 하드웨어의 발전 속도를 따라가지 못해 더 많은 성능 향상을 필요로 한다.<br>\n",
    "그래서 컴퓨터 알고리즘의 대부분은 처리 속도를 높이는 데 중점을 둔다. \n",
    "\n",
    "소프트웨어의 처리 속도를 얼마나 높일 수 있는가가 관건이란 말이군!!😃"
   ]
  },
  {
   "cell_type": "markdown",
   "metadata": {},
   "source": [
    "### 1.3 알고리즘은 어떻게 학습할까?"
   ]
  },
  {
   "cell_type": "markdown",
   "metadata": {},
   "source": [
    "\"바둑에도 '정석'이 있듯이 알고리즘에도 '정석'이 있다\"<br>\n",
    "이 책에서는 몇 가지 기본적인 프로그래밍 알고리즘을 소개하고, 여러 문제를 통해 어떤 알고리즘을 적용해야 하는지 설명한다."
   ]
  },
  {
   "cell_type": "markdown",
   "metadata": {},
   "source": [
    "많이 생각하고 많이 연습하는 것만이 알고리즘을 학습하는 방법이다. (어쩌면 대부분의 문제가 그렇듯이 답은 누구나 알고 있을 만큼 뻔하다ㅎ)"
   ]
  },
  {
   "cell_type": "markdown",
   "metadata": {},
   "source": [
    "#### 많이 생각하고 많이 연습하고 또 연습하고"
   ]
  },
  {
   "cell_type": "markdown",
   "metadata": {},
   "source": [
    "🙇‍♂️  '알고리즘 학습 법과 머신러닝 학습법이 상당히 비슷하다는 생각이 문뜩 들었다'"
   ]
  },
  {
   "cell_type": "markdown",
   "metadata": {},
   "source": [
    "저자는 이러한 학습법에 더해 그 위에 학습 의욕을 효과적으로 지속시키기 위한 방법을 소개해준다고 한다.(정말 기대된다. 무언가를 효과적으로 지속하기란... 정말 어려운 일이기 때문이다!)"
   ]
  },
  {
   "cell_type": "markdown",
   "metadata": {},
   "source": [
    "*하지만 그것이 공부가 아닌 게임이라면 어떨까? 게임이라면 1년 내내 해도 절대 지치지 않지 않을까?*<br>\n",
    "\n",
    "<code>코딩 게임</code>과 <code>캐글</code> 이 두개를 미친듯이 즐기고 싶은 Steve Lee...!"
   ]
  },
  {
   "cell_type": "markdown",
   "metadata": {},
   "source": [
    "선의의 경쟁, 더 높은 곳으로 오르고 싶은 욕망. 이것이 나로 하여금 오늘 알고리즘 책을 펴게 만든게 아닐까?"
   ]
  },
  {
   "cell_type": "markdown",
   "metadata": {},
   "source": [
    "### 1.4 알고리즘의 성능은 어떻게 표현될까?"
   ]
  },
  {
   "cell_type": "markdown",
   "metadata": {},
   "source": [
    "오늘 조금 많이 했는데 여기까지 마무리 짓고 자자!(매우 뿌듯한 심정으로 잠들 수 있을듯!)"
   ]
  },
  {
   "cell_type": "code",
   "execution_count": null,
   "metadata": {},
   "outputs": [],
   "source": []
  },
  {
   "cell_type": "code",
   "execution_count": null,
   "metadata": {},
   "outputs": [],
   "source": []
  }
 ],
 "metadata": {
  "kernelspec": {
   "display_name": "Python 3",
   "language": "python",
   "name": "python3"
  },
  "language_info": {
   "codemirror_mode": {
    "name": "ipython",
    "version": 3
   },
   "file_extension": ".py",
   "mimetype": "text/x-python",
   "name": "python",
   "nbconvert_exporter": "python",
   "pygments_lexer": "ipython3",
   "version": "3.7.1"
  }
 },
 "nbformat": 4,
 "nbformat_minor": 2
}
