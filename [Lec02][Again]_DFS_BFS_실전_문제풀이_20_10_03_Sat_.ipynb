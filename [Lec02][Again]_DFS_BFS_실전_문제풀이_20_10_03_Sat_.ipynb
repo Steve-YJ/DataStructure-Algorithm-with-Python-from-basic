{
  "nbformat": 4,
  "nbformat_minor": 0,
  "metadata": {
    "colab": {
      "name": "[Lec02][Again] DFS/BFS 실전 문제풀이.20.10.03.Sat .ipynb",
      "provenance": [],
      "authorship_tag": "ABX9TyPFHtN3nuPEqjMLKG55m0My",
      "include_colab_link": true
    },
    "kernelspec": {
      "name": "python3",
      "display_name": "Python 3"
    }
  },
  "cells": [
    {
      "cell_type": "markdown",
      "metadata": {
        "id": "view-in-github",
        "colab_type": "text"
      },
      "source": [
        "<a href=\"https://colab.research.google.com/github/Steve-YJ/DataStructure-Algorithm-with-Python-from-basic/blob/master/%5BLec02%5D%5BAgain%5D_DFS_BFS_%EC%8B%A4%EC%A0%84_%EB%AC%B8%EC%A0%9C%ED%92%80%EC%9D%B4_20_10_03_Sat_.ipynb\" target=\"_parent\"><img src=\"https://colab.research.google.com/assets/colab-badge.svg\" alt=\"Open In Colab\"/></a>"
      ]
    },
    {
      "cell_type": "markdown",
      "metadata": {
        "id": "2yFro5blbxO-"
      },
      "source": [
        "# DFS/BFS 실전 문제풀이\n",
        "* 이코테(이것이 취업을 위한 코테!)\n",
        "* DFS/BFS 강의 몰아보기 Lec2. DFS/BFS 실전 풀이"
      ]
    },
    {
      "cell_type": "markdown",
      "metadata": {
        "id": "iUiVVhrMfUaj"
      },
      "source": [
        "## 1. 음료수 얼려 먹기"
      ]
    },
    {
      "cell_type": "code",
      "metadata": {
        "id": "TpmfDj80bjQr",
        "outputId": "ef25f3ac-5c5e-48b4-f1b9-5b35a69e853a",
        "colab": {
          "base_uri": "https://localhost:8080/",
          "height": 52
        }
      },
      "source": [
        "# 행과 열 입력받기\n",
        "n, m = map(int, input().split())\n",
        "print('print-n,m: ', n, m)"
      ],
      "execution_count": 44,
      "outputs": [
        {
          "output_type": "stream",
          "text": [
            "4 5\n",
            "print-n,m:  4 5\n"
          ],
          "name": "stdout"
        }
      ]
    },
    {
      "cell_type": "code",
      "metadata": {
        "id": "CuoTdv4xcUzB",
        "outputId": "da69ed65-23cb-4c6e-fc58-b1ba7423f446",
        "colab": {
          "base_uri": "https://localhost:8080/",
          "height": 104
        }
      },
      "source": [
        "# 2차원 리스트 입력받기\n",
        "# graph 입력받기\n",
        "graph = []\n",
        "\n",
        "# n행에 대해 입력받기\n",
        "for i in range(n):\n",
        "    graph.append(list(map(int, input())))\n",
        "\n",
        "print('print-graph: ', graph)"
      ],
      "execution_count": 45,
      "outputs": [
        {
          "output_type": "stream",
          "text": [
            "00110\n",
            "00011\n",
            "11111\n",
            "00000\n",
            "print-graph:  [[0, 0, 1, 1, 0], [0, 0, 0, 1, 1], [1, 1, 1, 1, 1], [0, 0, 0, 0, 0]]\n"
          ],
          "name": "stdout"
        }
      ]
    },
    {
      "cell_type": "code",
      "metadata": {
        "id": "YyAN8Eccc4OJ"
      },
      "source": [
        "result = 0  # 얼음 개수 카운팅\n",
        "\n",
        "def dfs(x, y):\n",
        "    \n",
        "    # 범위를 벗어나는 경우 제외, \n",
        "    if x <= -1 or y <=-1 or x >=n or y >=m:\n",
        "        return False\n",
        "    # if graph[][] == 0\n",
        "    if graph[x][y] == 0:\n",
        "        graph[x][y] = 1  # 방문처리\n",
        "\n",
        "    for i in range(n):\n",
        "        for j in range(m):\n",
        "            # 상, 하, 좌, 우 탐색\n",
        "            dfs(i, j+1)  # 상\n",
        "            dfs(i, j-1)  # 하\n",
        "            dfs(i-1, j)  # 좌\n",
        "            dfs(i+1, j)  # 우\n",
        "    result += 1\n",
        "    return True\n"
      ],
      "execution_count": 46,
      "outputs": []
    },
    {
      "cell_type": "code",
      "metadata": {
        "id": "En6vJfJ8dN-n",
        "outputId": "ebb4a03b-91b9-486f-c0b3-c28228d6336c",
        "colab": {
          "base_uri": "https://localhost:8080/",
          "height": 345
        }
      },
      "source": [
        "dfs(0, 0)"
      ],
      "execution_count": 47,
      "outputs": [
        {
          "output_type": "error",
          "ename": "RecursionError",
          "evalue": "ignored",
          "traceback": [
            "\u001b[0;31m---------------------------------------------------------------------------\u001b[0m",
            "\u001b[0;31mRecursionError\u001b[0m                            Traceback (most recent call last)",
            "\u001b[0;32m<ipython-input-47-dd11a56e676b>\u001b[0m in \u001b[0;36m<module>\u001b[0;34m()\u001b[0m\n\u001b[0;32m----> 1\u001b[0;31m \u001b[0mdfs\u001b[0m\u001b[0;34m(\u001b[0m\u001b[0;36m0\u001b[0m\u001b[0;34m,\u001b[0m \u001b[0;36m0\u001b[0m\u001b[0;34m)\u001b[0m\u001b[0;34m\u001b[0m\u001b[0;34m\u001b[0m\u001b[0m\n\u001b[0m",
            "\u001b[0;32m<ipython-input-46-fbe2e0d78d9e>\u001b[0m in \u001b[0;36mdfs\u001b[0;34m(x, y)\u001b[0m\n\u001b[1;32m     13\u001b[0m         \u001b[0;32mfor\u001b[0m \u001b[0mj\u001b[0m \u001b[0;32min\u001b[0m \u001b[0mrange\u001b[0m\u001b[0;34m(\u001b[0m\u001b[0mm\u001b[0m\u001b[0;34m)\u001b[0m\u001b[0;34m:\u001b[0m\u001b[0;34m\u001b[0m\u001b[0;34m\u001b[0m\u001b[0m\n\u001b[1;32m     14\u001b[0m             \u001b[0;31m# 상, 하, 좌, 우 탐색\u001b[0m\u001b[0;34m\u001b[0m\u001b[0;34m\u001b[0m\u001b[0;34m\u001b[0m\u001b[0m\n\u001b[0;32m---> 15\u001b[0;31m             \u001b[0mdfs\u001b[0m\u001b[0;34m(\u001b[0m\u001b[0mi\u001b[0m\u001b[0;34m,\u001b[0m \u001b[0mj\u001b[0m\u001b[0;34m+\u001b[0m\u001b[0;36m1\u001b[0m\u001b[0;34m)\u001b[0m  \u001b[0;31m# 상\u001b[0m\u001b[0;34m\u001b[0m\u001b[0;34m\u001b[0m\u001b[0m\n\u001b[0m\u001b[1;32m     16\u001b[0m             \u001b[0mdfs\u001b[0m\u001b[0;34m(\u001b[0m\u001b[0mi\u001b[0m\u001b[0;34m,\u001b[0m \u001b[0mj\u001b[0m\u001b[0;34m-\u001b[0m\u001b[0;36m1\u001b[0m\u001b[0;34m)\u001b[0m  \u001b[0;31m# 하\u001b[0m\u001b[0;34m\u001b[0m\u001b[0;34m\u001b[0m\u001b[0m\n\u001b[1;32m     17\u001b[0m             \u001b[0mdfs\u001b[0m\u001b[0;34m(\u001b[0m\u001b[0mi\u001b[0m\u001b[0;34m-\u001b[0m\u001b[0;36m1\u001b[0m\u001b[0;34m,\u001b[0m \u001b[0mj\u001b[0m\u001b[0;34m)\u001b[0m  \u001b[0;31m# 좌\u001b[0m\u001b[0;34m\u001b[0m\u001b[0;34m\u001b[0m\u001b[0m\n",
            "... last 1 frames repeated, from the frame below ...\n",
            "\u001b[0;32m<ipython-input-46-fbe2e0d78d9e>\u001b[0m in \u001b[0;36mdfs\u001b[0;34m(x, y)\u001b[0m\n\u001b[1;32m     13\u001b[0m         \u001b[0;32mfor\u001b[0m \u001b[0mj\u001b[0m \u001b[0;32min\u001b[0m \u001b[0mrange\u001b[0m\u001b[0;34m(\u001b[0m\u001b[0mm\u001b[0m\u001b[0;34m)\u001b[0m\u001b[0;34m:\u001b[0m\u001b[0;34m\u001b[0m\u001b[0;34m\u001b[0m\u001b[0m\n\u001b[1;32m     14\u001b[0m             \u001b[0;31m# 상, 하, 좌, 우 탐색\u001b[0m\u001b[0;34m\u001b[0m\u001b[0;34m\u001b[0m\u001b[0;34m\u001b[0m\u001b[0m\n\u001b[0;32m---> 15\u001b[0;31m             \u001b[0mdfs\u001b[0m\u001b[0;34m(\u001b[0m\u001b[0mi\u001b[0m\u001b[0;34m,\u001b[0m \u001b[0mj\u001b[0m\u001b[0;34m+\u001b[0m\u001b[0;36m1\u001b[0m\u001b[0;34m)\u001b[0m  \u001b[0;31m# 상\u001b[0m\u001b[0;34m\u001b[0m\u001b[0;34m\u001b[0m\u001b[0m\n\u001b[0m\u001b[1;32m     16\u001b[0m             \u001b[0mdfs\u001b[0m\u001b[0;34m(\u001b[0m\u001b[0mi\u001b[0m\u001b[0;34m,\u001b[0m \u001b[0mj\u001b[0m\u001b[0;34m-\u001b[0m\u001b[0;36m1\u001b[0m\u001b[0;34m)\u001b[0m  \u001b[0;31m# 하\u001b[0m\u001b[0;34m\u001b[0m\u001b[0;34m\u001b[0m\u001b[0m\n\u001b[1;32m     17\u001b[0m             \u001b[0mdfs\u001b[0m\u001b[0;34m(\u001b[0m\u001b[0mi\u001b[0m\u001b[0;34m-\u001b[0m\u001b[0;36m1\u001b[0m\u001b[0;34m,\u001b[0m \u001b[0mj\u001b[0m\u001b[0;34m)\u001b[0m  \u001b[0;31m# 좌\u001b[0m\u001b[0;34m\u001b[0m\u001b[0;34m\u001b[0m\u001b[0m\n",
            "\u001b[0;31mRecursionError\u001b[0m: maximum recursion depth exceeded in comparison"
          ]
        }
      ]
    },
    {
      "cell_type": "markdown",
      "metadata": {
        "id": "DPQ37j67ll6P"
      },
      "source": [
        "DFS를 사용해 탐색을 하려는 시도는 좋았지만 시작노드와 탐색노드 사이의 논리가 조금 부족했군...!"
      ]
    },
    {
      "cell_type": "markdown",
      "metadata": {
        "id": "3W-t5jLekiZp"
      },
      "source": [
        "###정답"
      ]
    },
    {
      "cell_type": "markdown",
      "metadata": {
        "id": "oslFD7NxlGlB"
      },
      "source": [
        "현재 좌표가 범위를 넘어가면 False"
      ]
    },
    {
      "cell_type": "code",
      "metadata": {
        "id": "DcxVXYgHkj3R"
      },
      "source": [
        "def dfs(x, y):\n",
        "    # 범위를 벗어나는 경우 제외, \n",
        "    if x <= -1 or y <=-1 or x >=n or y >=m:\n",
        "        return False\n",
        "    # if graph[][] == 0\n",
        "    if graph[x][y] == 0:\n",
        "        graph[x][y] = 1  # 방문처리\n",
        "        # 상, 하, 좌, 우 탐색\n",
        "        dfs(x, y+1)  # 상\n",
        "        dfs(x, y-1)  # 하\n",
        "        dfs(x-1, y)  # 좌\n",
        "        dfs(x+1, y)  # 우\n",
        "        return True\n",
        "    return False"
      ],
      "execution_count": 48,
      "outputs": []
    },
    {
      "cell_type": "code",
      "metadata": {
        "id": "DI74kJ2LkrcB",
        "outputId": "e5f00896-b8f6-4fcd-c39b-3d61553f222b",
        "colab": {
          "base_uri": "https://localhost:8080/",
          "height": 35
        }
      },
      "source": [
        "result = 0\n",
        "\n",
        "# 모든 노드에 대하여 음료수를 채운다\n",
        "# 앞서 정의한 DFS 함수를 통해 빈칸을 하나씩 채워나간다!\n",
        "for i in range(n):\n",
        "    for j in range(m):\n",
        "        # 현재 위치에서 DFS 수행\n",
        "        if dfs(i, j) == True:\n",
        "            result += 1\n",
        "print(result)"
      ],
      "execution_count": 49,
      "outputs": [
        {
          "output_type": "stream",
          "text": [
            "3\n"
          ],
          "name": "stdout"
        }
      ]
    },
    {
      "cell_type": "markdown",
      "metadata": {
        "id": "4ZNsNoylfPlv"
      },
      "source": [
        "## 2. 미로 찾기 문제"
      ]
    },
    {
      "cell_type": "markdown",
      "metadata": {
        "id": "H9qIQA64muhK"
      },
      "source": [
        "* 대철이는 N x M 크기의 직사각형 형태의 미로에 갇혔습니다. 미로에는 여러 괴물이 있어 이를 피해 탈출해야 합니다.\n",
        "* 대철이의 위치는 (1, 1)이며 미로의 출구는 (N, M)의 위치에 존재하며 한 번에 한 칸씩 이동할 수 있습니다. 이 때 괴물이 있는 부분은 0으로, 괴물이 없는 부분은 1로 표시되어 있습니다. 미로는 반드시 탈출할 수 있는 형태로 제시됩니다.\n",
        "* 이 때 대철이가 탈출하기 위해 움직여야 하는 최소 칸의 개수를 구하세요. 칸을 셀 때는 시작 칸과 마지막 칸을 모두 포함해서 계산합니다."
      ]
    },
    {
      "cell_type": "code",
      "metadata": {
        "id": "_LMSaR6bfcUB",
        "outputId": "98d018f0-a798-4ba4-eae4-5fe977527f0f",
        "colab": {
          "base_uri": "https://localhost:8080/",
          "height": 52
        }
      },
      "source": [
        "# 행과 열 입력\n",
        "n, m = map(int, input().split())\n",
        "print('print-n,m: ', n, m)"
      ],
      "execution_count": 51,
      "outputs": [
        {
          "output_type": "stream",
          "text": [
            "5 6\n",
            "print-n,m:  5 6\n"
          ],
          "name": "stdout"
        }
      ]
    },
    {
      "cell_type": "code",
      "metadata": {
        "id": "lI5FEsvVn9Z_",
        "outputId": "1d63bf8e-7205-4e4f-9e8e-48c4a6e64e9e",
        "colab": {
          "base_uri": "https://localhost:8080/",
          "height": 121
        }
      },
      "source": [
        "# 2차원 행렬 입력\n",
        "graph = []  # graph 초기화\n",
        "\n",
        "for i in range(n):\n",
        "    graph.append(list(map(int, input())))\n",
        "\n",
        "print(graph)"
      ],
      "execution_count": 52,
      "outputs": [
        {
          "output_type": "stream",
          "text": [
            "101010\n",
            "111111\n",
            "000001\n",
            "111111\n",
            "111111\n",
            "[[1, 0, 1, 0, 1, 0], [1, 1, 1, 1, 1, 1], [0, 0, 0, 0, 0, 1], [1, 1, 1, 1, 1, 1], [1, 1, 1, 1, 1, 1]]\n"
          ],
          "name": "stdout"
        }
      ]
    },
    {
      "cell_type": "code",
      "metadata": {
        "id": "d3GXd24loQLJ"
      },
      "source": [
        "from collections import deque\n",
        "\n",
        "queue = deque()\n",
        "len = 0\n",
        "\n",
        "def bfs(x, y):\n",
        "    if x <= -1 or y <= -1 or x >=n or y >= m:\n",
        "        pass\n",
        "    if graph[x][y] == 0:\n",
        "        pass\n",
        "    # 첫번째 방문 노드라면 1을 더해준다\n",
        "    if graph[x][y] == 1:\n",
        "        graph[x][y] = graph[x][y] + 1\n",
        "\n",
        "    queue.append(graph[x][y])\n",
        "    \n",
        "    while queue:  # queue에 원소가 존재한다면\n",
        "        pop = queue.popleft()  # 최상단 노드를 제거해준다\n",
        "\n",
        "        # 인접 노드 중 방문하지 않은 노드 큐에 모두 쌓는다\n",
        "        bfs(x, y-1)  # 상\n",
        "        bfs(x, y+1)  # 하\n",
        "        bfs(x-1, y)  # 좌\n",
        "        bfs(x+1, y)  # 우"
      ],
      "execution_count": 50,
      "outputs": []
    },
    {
      "cell_type": "code",
      "metadata": {
        "id": "IEVQHVhYuB1P",
        "outputId": "63c4dfe5-05d8-4233-889a-3fc37a4c22bb",
        "colab": {
          "base_uri": "https://localhost:8080/",
          "height": 52
        }
      },
      "source": [
        "print(n, m)\n",
        "print(graph)"
      ],
      "execution_count": 31,
      "outputs": [
        {
          "output_type": "stream",
          "text": [
            "5 6\n",
            "[[2, 0, 1, 0, 1, 0], [1, 2, 1, 1, 1, 1], [0, 0, 0, 0, 0, 1], [1, 1, 1, 1, 1, 1], [1, 1, 1, 1, 1, 1]]\n"
          ],
          "name": "stdout"
        }
      ]
    },
    {
      "cell_type": "markdown",
      "metadata": {
        "id": "QqhxBnWOuPp2"
      },
      "source": [
        "### 정답"
      ]
    },
    {
      "cell_type": "code",
      "metadata": {
        "id": "My8z0YqvwdV_",
        "outputId": "0ab449d5-cb20-4046-edd0-76f145bfe897",
        "colab": {
          "base_uri": "https://localhost:8080/",
          "height": 52
        }
      },
      "source": [
        "print(n, m)\n",
        "print(graph)"
      ],
      "execution_count": 40,
      "outputs": [
        {
          "output_type": "stream",
          "text": [
            "5 6\n",
            "[[1, 0, 1, 0, 1, 0], [1, 1, 1, 1, 1, 1], [0, 0, 0, 0, 0, 1], [1, 1, 1, 1, 1, 1], [1, 1, 1, 1, 1, 1]]\n"
          ],
          "name": "stdout"
        }
      ]
    },
    {
      "cell_type": "code",
      "metadata": {
        "id": "GiBAaj1QuRHD"
      },
      "source": [
        "# 이동할 네 가지 방향 정의 (상, 하, 좌, 우)\n",
        "dx = [-1, 1, 0, 0]\n",
        "dy = [0, 0, -1, 1]"
      ],
      "execution_count": 25,
      "outputs": []
    },
    {
      "cell_type": "code",
      "metadata": {
        "id": "5OJrsZ9Vu4Fp"
      },
      "source": [
        "# BFS 소스코드 구현\n",
        "def bfs(x, y):\n",
        "    # 큐 구현을 위해 deque 자료구조 사용\n",
        "    queue = deque()\n",
        "    queue.append((x, y))\n",
        "\n",
        "    # 큐가 빌 때까지 반복하기\n",
        "    while queue:\n",
        "        x, y = queue.popleft()\n",
        "        # 현재 위치에서 4가지 방향으로 위치 확인\n",
        "        for i in range(4):\n",
        "            nx = x + dx[i]\n",
        "            ny = y + dy[i]\n",
        "            # 미로 찾기 공간을 벗어난 경우 무시\n",
        "            if nx <0 or nx >=n or ny <0 or ny >=m:\n",
        "                continue\n",
        "            # 벽인 경우 무시\n",
        "            if graph[nx][ny] == 0:\n",
        "                continue\n",
        "            # 해당 노드를 처음 방문하는 경우에만 최단 거리 기록\n",
        "            if graph[nx][ny] == 1:\n",
        "                graph[nx][ny] = graph[x][y] + 1\n",
        "                queue.append((nx, ny))\n",
        "    # 가장 오른쪽 아래까지의 최단거리 반환\n",
        "    return graph[n-1][m-1]"
      ],
      "execution_count": 43,
      "outputs": []
    },
    {
      "cell_type": "code",
      "metadata": {
        "id": "seqktno6tSMs",
        "outputId": "51e7c2b4-0dd2-4efb-88ab-edba408ead27",
        "colab": {
          "base_uri": "https://localhost:8080/",
          "height": 35
        }
      },
      "source": [
        "print(bfs(0, 0))"
      ],
      "execution_count": 42,
      "outputs": [
        {
          "output_type": "stream",
          "text": [
            "10\n"
          ],
          "name": "stdout"
        }
      ]
    },
    {
      "cell_type": "code",
      "metadata": {
        "id": "aeuswrrd8sDF"
      },
      "source": [
        "from collections import deque\n",
        "\n",
        "def bfs(x, y):\n",
        "    queue = deque()\n",
        "    queue.append((x, y))\n",
        "    \n",
        "    while queue:  # queue에 원소가 존재한다면\n",
        "        x, y = queue.popleft()\n",
        "        # 현재 위치에서 네 가지 방향으로 위치 확인\n",
        "        for i in range(4):\n",
        "            nx = x + dx[i]\n",
        "            ny = y + dy[i]\n",
        "            # 미로 찾기 공간을 벗어난 경우 무시\n",
        "            if nx <0 or nx >=n or ny <0 or ny >=m:\n",
        "                continue\n",
        "            # 벽인 경우 무시\n",
        "            if graph[nx][ny] == 0:\n",
        "                continue\n",
        "            # 해당 노드를 처음 방문하는 경우에만 최단 거리 기록\n",
        "            if graph[nx][ny] == 1:\n",
        "                graph[nx][ny] = graph[x][y] + 1\n",
        "                queue.append((nx, ny))\n",
        "    # 가장 오른쪽 아래까지의 최단거리 반환\n",
        "    return graph[n-1][m-1]"
      ],
      "execution_count": 54,
      "outputs": []
    },
    {
      "cell_type": "code",
      "metadata": {
        "id": "-ZyhKMt89oTS",
        "outputId": "355a8bd6-c58b-4d94-d5bd-49c3d0c04298",
        "colab": {
          "base_uri": "https://localhost:8080/",
          "height": 35
        }
      },
      "source": [
        "bfs(0, 0)"
      ],
      "execution_count": 55,
      "outputs": [
        {
          "output_type": "execute_result",
          "data": {
            "text/plain": [
              "10"
            ]
          },
          "metadata": {
            "tags": []
          },
          "execution_count": 55
        }
      ]
    },
    {
      "cell_type": "markdown",
      "metadata": {
        "id": "VLvFJsDd-G3R"
      },
      "source": [
        "많은 문제를 풀어봐야 할 것 같다...! Coding Game부터...! -20.10.03.Sat. pm2:00"
      ]
    },
    {
      "cell_type": "code",
      "metadata": {
        "id": "hiJy5OfK-MiQ"
      },
      "source": [
        ""
      ],
      "execution_count": null,
      "outputs": []
    }
  ]
}