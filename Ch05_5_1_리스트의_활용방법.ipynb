{
  "nbformat": 4,
  "nbformat_minor": 0,
  "metadata": {
    "colab": {
      "name": "Ch05. 5.1 리스트의 활용방법",
      "provenance": [],
      "collapsed_sections": [],
      "authorship_tag": "ABX9TyP7VlPDH+5z6JFz6fAKXXSs",
      "include_colab_link": true
    },
    "kernelspec": {
      "name": "python3",
      "display_name": "Python 3"
    }
  },
  "cells": [
    {
      "cell_type": "markdown",
      "metadata": {
        "id": "view-in-github",
        "colab_type": "text"
      },
      "source": [
        "<a href=\"https://colab.research.google.com/github/Steve-YJ/DataStructure-Algorithm-with-Python-from-basic/blob/master/Ch05_5_1_%EB%A6%AC%EC%8A%A4%ED%8A%B8%EC%9D%98_%ED%99%9C%EC%9A%A9%EB%B0%A9%EB%B2%95.ipynb\" target=\"_parent\"><img src=\"https://colab.research.google.com/assets/colab-badge.svg\" alt=\"Open In Colab\"/></a>"
      ]
    },
    {
      "cell_type": "markdown",
      "metadata": {
        "id": "yMTrVDnguVak",
        "colab_type": "text"
      },
      "source": [
        "# Chap5. List, Dictionary"
      ]
    },
    {
      "cell_type": "markdown",
      "metadata": {
        "id": "nEa4kZGkuZ8i",
        "colab_type": "text"
      },
      "source": [
        "### 5.1 리스트의 활용 방법\n",
        "\n",
        "직접 두들겨보면서 개념을 이해해보도록 한다.<br>\n",
        "실습하는 즐거움! 락!!"
      ]
    },
    {
      "cell_type": "markdown",
      "metadata": {
        "id": "w3UrUIgku9in",
        "colab_type": "text"
      },
      "source": [
        "* list 선언\n",
        "* list element 추가\n",
        "* 인덱스 위치에 element 추가"
      ]
    },
    {
      "cell_type": "code",
      "metadata": {
        "id": "Y318mmmduO_2",
        "colab_type": "code",
        "colab": {}
      },
      "source": [
        "# list는 다음과 같이 선언한다\n",
        "\n",
        "a = list()\n",
        "a = [] # 또는 대괄호를 사용해 더 간단하게 선언할 수 있다"
      ],
      "execution_count": null,
      "outputs": []
    },
    {
      "cell_type": "code",
      "metadata": {
        "id": "NXXmCJXFus3R",
        "colab_type": "code",
        "colab": {
          "base_uri": "https://localhost:8080/",
          "height": 35
        },
        "outputId": "8b245b4e-c8ad-4cce-e11b-5111c632fdc4"
      },
      "source": [
        "# 다음과 같이 초깃값을 지정해 선언하거나 append()로 추가할 수 있다.\n",
        "a = [1, 2, 3]\n",
        "a"
      ],
      "execution_count": null,
      "outputs": [
        {
          "output_type": "execute_result",
          "data": {
            "text/plain": [
              "[1, 2, 3]"
            ]
          },
          "metadata": {
            "tags": []
          },
          "execution_count": 2
        }
      ]
    },
    {
      "cell_type": "code",
      "metadata": {
        "id": "n0rIDKfwu0G5",
        "colab_type": "code",
        "colab": {
          "base_uri": "https://localhost:8080/",
          "height": 35
        },
        "outputId": "9e8dc4ed-8f33-4008-e3b4-54c3f2d930d9"
      },
      "source": [
        "a.append(4)  # append() method를 사용하면 list에 값을 추가할 수 있다.\n",
        "a"
      ],
      "execution_count": null,
      "outputs": [
        {
          "output_type": "execute_result",
          "data": {
            "text/plain": [
              "[1, 2, 3, 4, 4]"
            ]
          },
          "metadata": {
            "tags": []
          },
          "execution_count": 4
        }
      ]
    },
    {
      "cell_type": "code",
      "metadata": {
        "id": "pr9vwFX_u14u",
        "colab_type": "code",
        "colab": {
          "base_uri": "https://localhost:8080/",
          "height": 35
        },
        "outputId": "d5c664e9-b3fe-4ab0-c0ed-59777f5b0f37"
      },
      "source": [
        "a.insert(3, 5)  # Expect: [1, 2, 3, 5, 4, 4]\n",
        "print(a)"
      ],
      "execution_count": null,
      "outputs": [
        {
          "output_type": "stream",
          "text": [
            "[1, 2, 3, 5, 4, 4]\n"
          ],
          "name": "stdout"
        }
      ]
    },
    {
      "cell_type": "markdown",
      "metadata": {
        "id": "oWhcUlV2vR_a",
        "colab_type": "text"
      },
      "source": [
        "지금까지는 숫자 자료형을 리스트에 삽입해 보았다. 숫자 외에도 문자와 불리언을 자유롭게 삽입할 수 있다."
      ]
    },
    {
      "cell_type": "code",
      "metadata": {
        "id": "wUQ5GpF1vMed",
        "colab_type": "code",
        "colab": {
          "base_uri": "https://localhost:8080/",
          "height": 35
        },
        "outputId": "4c0be76e-1c79-40ad-b3f9-02381d9d5130"
      },
      "source": [
        "print(a)"
      ],
      "execution_count": null,
      "outputs": [
        {
          "output_type": "stream",
          "text": [
            "[1, 2, 3, 5, 4, 4]\n"
          ],
          "name": "stdout"
        }
      ]
    },
    {
      "cell_type": "code",
      "metadata": {
        "id": "HWvUI8xsvaMS",
        "colab_type": "code",
        "colab": {
          "base_uri": "https://localhost:8080/",
          "height": 35
        },
        "outputId": "91b22300-4857-4f72-f204-54143543a135"
      },
      "source": [
        "a.append('안녕')\n",
        "a.append(True)\n",
        "print(a)"
      ],
      "execution_count": null,
      "outputs": [
        {
          "output_type": "stream",
          "text": [
            "[1, 2, 3, 5, 4, 4, '안녕', True]\n"
          ],
          "name": "stdout"
        }
      ]
    },
    {
      "cell_type": "markdown",
      "metadata": {
        "id": "_5bElroQvkSX",
        "colab_type": "text"
      },
      "source": [
        "다른 언어들은 <code>동적 배열</code>에 삽입할 수 있는 자료형을 동일한 타입으로 제한하는 경우가 많은 데 비해, 파이썬은 이처럼 자유롭게 삽입할 수 있다.\n",
        "\n",
        "* 동적 배열이란?\n",
        "    * 잠시 9장의 내용을 살펴보자\n",
        "    * "
      ]
    },
    {
      "cell_type": "code",
      "metadata": {
        "id": "3XcM4cGfvfOq",
        "colab_type": "code",
        "colab": {
          "base_uri": "https://localhost:8080/",
          "height": 35
        },
        "outputId": "822c0916-790b-4e12-bc38-b3786309136d"
      },
      "source": [
        "2**32-1"
      ],
      "execution_count": null,
      "outputs": [
        {
          "output_type": "execute_result",
          "data": {
            "text/plain": [
              "4294967295"
            ]
          },
          "metadata": {
            "tags": []
          },
          "execution_count": 8
        }
      ]
    }
  ]
}