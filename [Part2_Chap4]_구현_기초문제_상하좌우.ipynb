{
  "nbformat": 4,
  "nbformat_minor": 0,
  "metadata": {
    "colab": {
      "name": "[Part2-Chap4] 구현 기초문제_상하좌우.ipynb",
      "provenance": [],
      "collapsed_sections": [],
      "authorship_tag": "ABX9TyMY7WJgvt2s07FMHzmsfSwA",
      "include_colab_link": true
    },
    "kernelspec": {
      "name": "python3",
      "display_name": "Python 3"
    }
  },
  "cells": [
    {
      "cell_type": "markdown",
      "metadata": {
        "id": "view-in-github",
        "colab_type": "text"
      },
      "source": [
        "<a href=\"https://colab.research.google.com/github/Steve-YJ/DataStructure-Algorithm-with-Python-from-basic/blob/master/%5BPart2_Chap4%5D_%EA%B5%AC%ED%98%84_%EA%B8%B0%EC%B4%88%EB%AC%B8%EC%A0%9C_%EC%83%81%ED%95%98%EC%A2%8C%EC%9A%B0.ipynb\" target=\"_parent\"><img src=\"https://colab.research.google.com/assets/colab-badge.svg\" alt=\"Open In Colab\"/></a>"
      ]
    },
    {
      "cell_type": "markdown",
      "metadata": {
        "id": "dKjZWdFj5hmk"
      },
      "source": [
        "# Part2-Chap4. 구현 기초 문제\n"
      ]
    },
    {
      "cell_type": "markdown",
      "metadata": {
        "id": "tC26FhzvzGbB"
      },
      "source": [
        "\"목표는 지식이 아닌 기술이 되어야 한다\" -1만 시간의 재발견 중-<br>\n",
        "\n",
        "<code>::start:: 20.10.04.sun~</code>"
      ]
    },
    {
      "cell_type": "markdown",
      "metadata": {
        "id": "QJpTC1vfzEVF"
      },
      "source": [
        "## 예제 4-1. 상하좌우"
      ]
    },
    {
      "cell_type": "markdown",
      "metadata": {
        "id": "_ARkkYcw8xxm"
      },
      "source": [
        "여행자 A의 시작 좌표는 항상 (1, 1)이다. 목적지까지 어떻게 이동할 수 있을까?"
      ]
    },
    {
      "cell_type": "markdown",
      "metadata": {
        "id": "mfV9bfak6CES"
      },
      "source": [
        "* 입력 조건\n",
        "    * 첫째 줄에 공간의 크기를 나타내는 N이 주어진다(1 <= N <= 100)\n",
        "    * 둘째 줄에 여행가 A가 이동할 계획서 내용이 주어진다. (1 <= 이동 횟수 <= 100)\n",
        "\n",
        "* 출력 조건\n",
        "    * 첫째 줄에 여행가 A가 최종적으로 도착할 지점의 좌표(X, Y)를 공백으로 구분하여 출력한다."
      ]
    },
    {
      "cell_type": "markdown",
      "metadata": {
        "id": "GmsrRudG5ixP"
      },
      "source": [
        "## 풀이 1) This is YJ"
      ]
    },
    {
      "cell_type": "code",
      "metadata": {
        "id": "XPJghvqo5gWd",
        "outputId": "293b9ab6-1ac8-4490-b0f9-26ee585d1d07",
        "colab": {
          "base_uri": "https://localhost:8080/",
          "height": 52
        }
      },
      "source": [
        "# 공간의 크기 입력받기\n",
        "\n",
        "space = int(input())\n",
        "print('print_space: ', space)"
      ],
      "execution_count": 1,
      "outputs": [
        {
          "output_type": "stream",
          "text": [
            "5\n",
            "print_space:  5\n"
          ],
          "name": "stdout"
        }
      ]
    },
    {
      "cell_type": "code",
      "metadata": {
        "id": "BoA9F92p6gFs",
        "outputId": "8ba8115d-7a47-4e00-b4cc-564c2dc98c7b",
        "colab": {
          "base_uri": "https://localhost:8080/",
          "height": 55
        }
      },
      "source": [
        "# 2차원 행렬 만들기\n",
        "\n",
        "graph = []\n",
        "\n",
        "for i in range(space):\n",
        "    graph.append([(i+1, i+1) for i in range(space)])\n",
        "\n",
        "print('print-graph: ', graph)"
      ],
      "execution_count": 2,
      "outputs": [
        {
          "output_type": "stream",
          "text": [
            "print-graph:  [[(1, 1), (2, 2), (3, 3), (4, 4), (5, 5)], [(1, 1), (2, 2), (3, 3), (4, 4), (5, 5)], [(1, 1), (2, 2), (3, 3), (4, 4), (5, 5)], [(1, 1), (2, 2), (3, 3), (4, 4), (5, 5)], [(1, 1), (2, 2), (3, 3), (4, 4), (5, 5)]]\n"
          ],
          "name": "stdout"
        }
      ]
    },
    {
      "cell_type": "code",
      "metadata": {
        "id": "zJsdi9Ij6zrZ",
        "outputId": "8e2a199c-2539-422c-a665-eedebe4eafff",
        "colab": {
          "base_uri": "https://localhost:8080/",
          "height": 104
        }
      },
      "source": [
        "graph"
      ],
      "execution_count": 3,
      "outputs": [
        {
          "output_type": "execute_result",
          "data": {
            "text/plain": [
              "[[(1, 1), (2, 2), (3, 3), (4, 4), (5, 5)],\n",
              " [(1, 1), (2, 2), (3, 3), (4, 4), (5, 5)],\n",
              " [(1, 1), (2, 2), (3, 3), (4, 4), (5, 5)],\n",
              " [(1, 1), (2, 2), (3, 3), (4, 4), (5, 5)],\n",
              " [(1, 1), (2, 2), (3, 3), (4, 4), (5, 5)]]"
            ]
          },
          "metadata": {
            "tags": []
          },
          "execution_count": 3
        }
      ]
    },
    {
      "cell_type": "code",
      "metadata": {
        "id": "Jg-vrB_e7hwp",
        "outputId": "a8668560-2d0f-4a6c-fb50-3e3168173f88",
        "colab": {
          "base_uri": "https://localhost:8080/",
          "height": 52
        }
      },
      "source": [
        "# 이동 계획서 입력\n",
        "\n",
        "plan = list(map(str, input().split()))\n",
        "print(\"print-plan: \", plan)"
      ],
      "execution_count": 4,
      "outputs": [
        {
          "output_type": "stream",
          "text": [
            "R R R U D D\n",
            "print-plan:  ['R', 'R', 'R', 'U', 'D', 'D']\n"
          ],
          "name": "stdout"
        }
      ]
    },
    {
      "cell_type": "code",
      "metadata": {
        "id": "QMASs4uO93p4",
        "outputId": "2e21764e-02e3-4eb0-d42f-e5b6765bed0b",
        "colab": {
          "base_uri": "https://localhost:8080/",
          "height": 35
        }
      },
      "source": [
        "# 시작 좌표 변수 할당하기\n",
        "s_point = graph[0][0]\n",
        "print(\"print-s_point: \", s_point)"
      ],
      "execution_count": 5,
      "outputs": [
        {
          "output_type": "stream",
          "text": [
            "print-s_point:  (1, 1)\n"
          ],
          "name": "stdout"
        }
      ]
    },
    {
      "cell_type": "markdown",
      "metadata": {
        "id": "1eIgVadM2RA2"
      },
      "source": [
        "시작점은 (1, 1)이다"
      ]
    },
    {
      "cell_type": "code",
      "metadata": {
        "id": "ybYaK_jM_16Q",
        "outputId": "597379ca-3d63-4498-d5d0-4bbc236c0ac8",
        "colab": {
          "base_uri": "https://localhost:8080/",
          "height": 35
        }
      },
      "source": [
        "# 시작 좌표 너비 및 높이 변수 할당\n",
        "# 향후 알고리즘에서 이동에 활용\n",
        "s_height = s_point[0]\n",
        "s_width = s_point[1]\n",
        "\n",
        "print(\"print-s_h_w: \", s_height, s_width)"
      ],
      "execution_count": 6,
      "outputs": [
        {
          "output_type": "stream",
          "text": [
            "print-s_h_w:  1 1\n"
          ],
          "name": "stdout"
        }
      ]
    },
    {
      "cell_type": "code",
      "metadata": {
        "id": "Jz6mV1EZ_JtN",
        "outputId": "d2f066c5-dd46-46d7-fbc4-0406735ed3db",
        "colab": {
          "base_uri": "https://localhost:8080/",
          "height": 52
        }
      },
      "source": [
        "print(s_point[0] + 1)\n",
        "print(s_point[1] + 1)"
      ],
      "execution_count": 7,
      "outputs": [
        {
          "output_type": "stream",
          "text": [
            "2\n",
            "2\n"
          ],
          "name": "stdout"
        }
      ]
    },
    {
      "cell_type": "code",
      "metadata": {
        "id": "VsSo9_OjDGPi",
        "outputId": "b374f2a5-e336-432f-f3ab-4064a1e1a0d5",
        "colab": {
          "base_uri": "https://localhost:8080/",
          "height": 52
        }
      },
      "source": [
        "print(\"print-s_h_w: \", s_height, s_width)\n",
        "print(\"print-plan: \", plan)"
      ],
      "execution_count": 8,
      "outputs": [
        {
          "output_type": "stream",
          "text": [
            "print-s_h_w:  1 1\n",
            "print-plan:  ['R', 'R', 'R', 'U', 'D', 'D']\n"
          ],
          "name": "stdout"
        }
      ]
    },
    {
      "cell_type": "code",
      "metadata": {
        "id": "15GAyiAJ8e6t",
        "outputId": "976a7706-55eb-4302-f08f-d62aac33b87e",
        "colab": {
          "base_uri": "https://localhost:8080/",
          "height": 35
        }
      },
      "source": [
        "# 이동 알고리즘\n",
        "tmp_w = 1  # 일시적인 너비 변수 tmp_w 1로 초기화\n",
        "tmp_h = 1  # 일시적인 높이 변수 tmp_h 1로 초기화\n",
        "\n",
        "for i in plan:  # 계획서에 명시된 이동 수만큼 이동. 0, 1, 2, 3, 4 ...\n",
        "    if i == 'R':  # 오른쪽으로 이동해야한다면\n",
        "        tmp_w = s_width + 1  # R로 이동할 계획이 있다면 width를 1 증가시킨다\n",
        "        if tmp_w >= space + 1:  # 정사각형 공간의 범위를 벗어나서는 안된다\n",
        "            pass                # 범위를 넘어선다면 pass\n",
        "        else:\n",
        "            s_width = tmp_w     # 범위 내라면 업데이트\n",
        "    elif i == 'L':\n",
        "        tmp_w = s_width -1\n",
        "        if tmp_w <= 0:  # 정사각형 범위를 벗어나서는 안된다\n",
        "            pass\n",
        "        else:\n",
        "            s_width = tmp_w  # 벗어나지 않는다면 업데이트해준다\n",
        "    elif i == 'U':\n",
        "        tmp_h = s_height -1\n",
        "        if tmp_h <= 0:\n",
        "            pass\n",
        "        else:\n",
        "            s_height = tmp_h\n",
        "    elif i == 'D':\n",
        "        tmp_h = s_height + 1\n",
        "        \n",
        "        if tmp_h >= space +1:\n",
        "            pass\n",
        "        else:\n",
        "            s_height = tmp_h\n",
        "\n",
        "print(s_height, s_width)"
      ],
      "execution_count": 9,
      "outputs": [
        {
          "output_type": "stream",
          "text": [
            "3 4\n"
          ],
          "name": "stdout"
        }
      ]
    },
    {
      "cell_type": "markdown",
      "metadata": {
        "id": "z3LTOjJh9g7E"
      },
      "source": [
        "책의 풀이(풀이 2)를 배우고 나니 위의 코드가 가진 문제점을 파악했다. 너무 explicit하다. <br>\n",
        "아래의 풀이 2와 같이 상,하,좌,우 계획에 대해 한 번에 처리를 할 수 있는 코드를 짜도록 노력해보자. -20.10.04.Sun. pm 11:30-"
      ]
    },
    {
      "cell_type": "markdown",
      "metadata": {
        "id": "cZ0_q_3o5moQ"
      },
      "source": [
        "## 풀이 2) This is DB"
      ]
    },
    {
      "cell_type": "markdown",
      "metadata": {
        "id": "RHmTsIY7978B"
      },
      "source": [
        "* 시작 좌표를 x, y로 잡는다\n",
        "* x, y 좌표가 상,하,좌,우로 이동할 때 변화하는 값을 dx, dy에 리스트 형태로 담아준다\n",
        "* 이동시 상,하,좌,우를 고려하며 임시값을 이동시킨다\n",
        "* 임시값이 범위내에 있다면 업데이트를 해준다"
      ]
    },
    {
      "cell_type": "code",
      "metadata": {
        "id": "jkivHeqa5pZn",
        "outputId": "f00e6b52-f3c9-4bf9-effe-2a0b6bdf7f90",
        "colab": {
          "base_uri": "https://localhost:8080/",
          "height": 86
        }
      },
      "source": [
        "# N을 입력 받기\n",
        "n = int(input())\n",
        "# x, y 초기화\n",
        "x, y = 1, 1\n",
        "# plan 입력받기\n",
        "plans = input().split()\n",
        "print(\"print-plans: \", plans)\n",
        "# L, R, U, D에 따른 이동 방향\n",
        "dx = [0, 0, -1, 1]  # 상,하\n",
        "dy = [-1, 1, 0, 0]  # 좌,우\n",
        "move_types = ['L', 'R', 'U', 'D']\n",
        "\n",
        "# 이동 계획을 하나씩 확인\n",
        "nx = 1\n",
        "ny = 1\n",
        "\n",
        "for plan in plans:   \n",
        "    for i in range(len(move_types)):  # 상,하,좌,우 모두 고려한다\n",
        "        if plan == move_types[i]:  # 만약 계획한 방향이라면\n",
        "            nx = x + dx[i]  # 이 값은 임시 값이다\n",
        "            ny = y + dy[i]\n",
        "\n",
        "    # 공간을 벗어나는 경우는 무시한다\n",
        "    if nx < 1 or ny <1 or nx > n or ny > n:\n",
        "        continue\n",
        "    # 공간을 벗어나지 않는다면 이동을 수행한다\n",
        "    x, y = nx, ny\n",
        "\n",
        "print(x, y)"
      ],
      "execution_count": 5,
      "outputs": [
        {
          "output_type": "stream",
          "text": [
            "5\n",
            " R R R U D D\n",
            "print-plans:  ['R', 'R', 'R', 'U', 'D', 'D']\n",
            "3 4\n"
          ],
          "name": "stdout"
        }
      ]
    }
  ]
}