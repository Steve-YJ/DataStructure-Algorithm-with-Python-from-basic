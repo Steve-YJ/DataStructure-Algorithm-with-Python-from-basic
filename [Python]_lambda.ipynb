{
  "nbformat": 4,
  "nbformat_minor": 0,
  "metadata": {
    "colab": {
      "name": "[Python] lambda.ipynb",
      "provenance": [],
      "authorship_tag": "ABX9TyODLYCrLbrfo50xeZEDVgtO",
      "include_colab_link": true
    },
    "kernelspec": {
      "name": "python3",
      "display_name": "Python 3"
    }
  },
  "cells": [
    {
      "cell_type": "markdown",
      "metadata": {
        "id": "view-in-github",
        "colab_type": "text"
      },
      "source": [
        "<a href=\"https://colab.research.google.com/github/Steve-YJ/DataStructure-Algorithm-with-Python-from-basic/blob/master/%5BPython%5D_lambda.ipynb\" target=\"_parent\"><img src=\"https://colab.research.google.com/assets/colab-badge.svg\" alt=\"Open In Colab\"/></a>"
      ]
    },
    {
      "cell_type": "markdown",
      "metadata": {
        "id": "mIF0AZAdrQg6",
        "colab_type": "text"
      },
      "source": [
        "## Intro\n",
        "\n",
        "* 'Python Algorithm Interview'의 6장 로그 데이터 정렬 문제를 풀기 위해서는 Python Lambda문법에 대한 이해가 필요하다\n",
        "* 코딩 인터뷰 뿐만아니라 앞으로 코딩을 해나가는데 있어서 lambda는 많이 사용될 것 같다. 하나하나 정리해보도록 하자...!"
      ]
    },
    {
      "cell_type": "markdown",
      "metadata": {
        "id": "fIWOyWlnrp5o",
        "colab_type": "text"
      },
      "source": [
        "## Source 01. Python Lambda\n",
        "* w3-school, Python Lambda\n",
        "\n",
        "### 1. What is Lambda?\n",
        "* A lambda function is a small anonymous function\n",
        "* A lambda function can take any number of arguments, but can only have one expression\n",
        "    * => 임의의 argument를 취하지만 오직 하나의 표현만 갖는다?!\n",
        "\n",
        "* Syntax\n",
        "    * <code>lambda arguments : expression </code>"
      ]
    },
    {
      "cell_type": "code",
      "metadata": {
        "id": "nhSKTfcRrMmC",
        "colab_type": "code",
        "colab": {
          "base_uri": "https://localhost:8080/",
          "height": 35
        },
        "outputId": "462adb04-37d5-4fda-e475-01e9fa1da869"
      },
      "source": [
        "# Example 01\n",
        "\n",
        "'''\n",
        "A lambda function that adds 10 to the number passed in as an argument, and print the result:\n",
        "'''\n",
        "\n",
        "x = lambda a: a + 10\n",
        "print(x(5))"
      ],
      "execution_count": 1,
      "outputs": [
        {
          "output_type": "stream",
          "text": [
            "15\n"
          ],
          "name": "stdout"
        }
      ]
    },
    {
      "cell_type": "code",
      "metadata": {
        "id": "V7ylDXo9s2Ec",
        "colab_type": "code",
        "colab": {
          "base_uri": "https://localhost:8080/",
          "height": 35
        },
        "outputId": "65699f38-ad09-444d-ad64-37ae4ce3d6eb"
      },
      "source": [
        "print(x(10))"
      ],
      "execution_count": 2,
      "outputs": [
        {
          "output_type": "stream",
          "text": [
            "20\n"
          ],
          "name": "stdout"
        }
      ]
    },
    {
      "cell_type": "code",
      "metadata": {
        "id": "uf-fUCG5s6XQ",
        "colab_type": "code",
        "colab": {
          "base_uri": "https://localhost:8080/",
          "height": 35
        },
        "outputId": "88318203-c552-4895-99e1-bdf3054ec327"
      },
      "source": [
        "# Example 02\n",
        "\n",
        "'''\n",
        "Lambda functions can take any number of arguments:\n",
        "'''\n",
        "\n",
        "x = lambda a, b : a*b\n",
        "print(x(5, 6))  # expect: 30"
      ],
      "execution_count": 3,
      "outputs": [
        {
          "output_type": "stream",
          "text": [
            "30\n"
          ],
          "name": "stdout"
        }
      ]
    },
    {
      "cell_type": "code",
      "metadata": {
        "id": "nhdjmU5stF-S",
        "colab_type": "code",
        "colab": {
          "base_uri": "https://localhost:8080/",
          "height": 35
        },
        "outputId": "73c222e3-c54d-45a3-82d6-d69d3391c936"
      },
      "source": [
        "# Example 03\n",
        "\n",
        "'''\n",
        "A lambda function that sums argument a, b, and c and print the result:\n",
        "'''\n",
        "\n",
        "x = lambda a, b, c: a + b + c\n",
        "\n",
        "print(x(1, 2, 3))  #expect 6"
      ],
      "execution_count": 4,
      "outputs": [
        {
          "output_type": "stream",
          "text": [
            "6\n"
          ],
          "name": "stdout"
        }
      ]
    },
    {
      "cell_type": "markdown",
      "metadata": {
        "id": "qKJpEKBrtbxd",
        "colab_type": "text"
      },
      "source": [
        "### 2. Why Use Lambda Functions?\n",
        "=> 왜 람다 함수를 사용하는거죠??, 그냥 함수 사용하면 안되요?!<br>\n",
        "\n",
        "* The power of lambda is better shown when you use them as an anonymous function inside another function\n",
        "* Say you have a function definition that takes one arguments, and that argument will be multiplied with an unknown number:"
      ]
    },
    {
      "cell_type": "code",
      "metadata": {
        "id": "AV7qrAxttTQ9",
        "colab_type": "code",
        "colab": {
          "base_uri": "https://localhost:8080/",
          "height": 35
        },
        "outputId": "9cadebb5-619b-41ed-b678-9a392c6c0355"
      },
      "source": [
        "'''\n",
        "Say you have a function definition that takes one arguments, and that argument will be multiplied with an unknown number:\n",
        "'''\n",
        "def myfunc(n):\n",
        "    return lambda x: x * n\n",
        "\n",
        "'''\n",
        "Use that function definition to make a function that always doubles the number you send in:\n",
        "'''\n",
        "mydoubler = myfunc(2)\n",
        "print(mydoubler(11))  # expect: 22"
      ],
      "execution_count": 5,
      "outputs": [
        {
          "output_type": "stream",
          "text": [
            "22\n"
          ],
          "name": "stdout"
        }
      ]
    },
    {
      "cell_type": "markdown",
      "metadata": {
        "id": "DiGjc2k5uu89",
        "colab_type": "text"
      },
      "source": [
        "* 1. 함수의 argumnet(인자)가 모르는 숫자에 곱해지는 함수를 정의한다\n",
        "* 2. 위의 함수를 사용하여 입력 값의 항상 2배를 출력하는 함수를 만들어라"
      ]
    },
    {
      "cell_type": "code",
      "metadata": {
        "id": "2ApFgT8ruY5T",
        "colab_type": "code",
        "colab": {
          "base_uri": "https://localhost:8080/",
          "height": 35
        },
        "outputId": "0c23d66c-1b4d-42a2-89b0-da7c6a2c942e"
      },
      "source": [
        "# Or, use the same function definition to make a function that always triples the number you send in:\n",
        "\n",
        "def myfunc(n):\n",
        "    return lambda x: x * n\n",
        "\n",
        "triple = myfunc(3)\n",
        "print(triple(11))  # Expect 33"
      ],
      "execution_count": 6,
      "outputs": [
        {
          "output_type": "stream",
          "text": [
            "33\n"
          ],
          "name": "stdout"
        }
      ]
    },
    {
      "cell_type": "markdown",
      "metadata": {
        "id": "AUBpo6D_F8PQ",
        "colab_type": "text"
      },
      "source": [
        "If we use lambda -> Last Updata: 20.08.31.mon.pm7:37L<br>\n"
      ]
    },
    {
      "cell_type": "code",
      "metadata": {
        "id": "LPKJ3EI_GCW4",
        "colab_type": "code",
        "colab": {
          "base_uri": "https://localhost:8080/",
          "height": 35
        },
        "outputId": "01980253-fd0f-4aa0-d4d3-4fffcf190dcc"
      },
      "source": [
        "x = lambda x, n: x * n\n",
        "\n",
        "print(x(11, 3))\n"
      ],
      "execution_count": 23,
      "outputs": [
        {
          "output_type": "stream",
          "text": [
            "33\n"
          ],
          "name": "stdout"
        }
      ]
    },
    {
      "cell_type": "markdown",
      "metadata": {
        "id": "QS9-HTJOvi00",
        "colab_type": "text"
      },
      "source": [
        "## Source 02. 왕초보를 위한 Python"
      ]
    },
    {
      "cell_type": "markdown",
      "metadata": {
        "id": "dNO8wlYmvtAG",
        "colab_type": "text"
      },
      "source": [
        "* 가벼운 마음으로 아 이런 것이 있구나 정도로 공부해봅니다\n",
        "* 람다 형식은 인공지능 분야나 AutoCAD라는 설계 프로그램에서 많이 쓰이는 Lisp언어에서 물려받았다고 합니다. \n",
        "* 함수를 딱 한 줄만으로 만들게 해주는 훌륭한 녀석입니다\n",
        "* Let's get it start it!"
      ]
    },
    {
      "cell_type": "markdown",
      "metadata": {
        "id": "xxWFiU4wwAUN",
        "colab_type": "text"
      },
      "source": [
        "* Lambda Expression<br>\n",
        "    <code>lambda arguments: expression</code>"
      ]
    },
    {
      "cell_type": "code",
      "metadata": {
        "id": "QZl6yaYkvOIl",
        "colab_type": "code",
        "colab": {
          "base_uri": "https://localhost:8080/",
          "height": 35
        },
        "outputId": "fffae236-a2b9-4add-b78a-6c0f49d9d6d6"
      },
      "source": [
        "# Example 01\n",
        "'''\n",
        "두 수를 더하는 함수 만들기\n",
        "'''\n",
        "\n",
        "def add(x, y):\n",
        "    return x + y\n",
        "\n",
        "print(add(10, 11))  # expect: 21"
      ],
      "execution_count": 7,
      "outputs": [
        {
          "output_type": "stream",
          "text": [
            "21\n"
          ],
          "name": "stdout"
        }
      ]
    },
    {
      "cell_type": "code",
      "metadata": {
        "id": "9gKkgznLwX7S",
        "colab_type": "code",
        "colab": {
          "base_uri": "https://localhost:8080/",
          "height": 35
        },
        "outputId": "849f5b3f-ef03-4ddf-f055-192ba474cfdf"
      },
      "source": [
        "'''\n",
        "이것을 람다 형식으로 표현해보자\n",
        "'''\n",
        "\n",
        "lambda1 = lambda x, y: x + y\n",
        "print(lambda1(10, 11))  # expect: 21(also!)"
      ],
      "execution_count": 8,
      "outputs": [
        {
          "output_type": "stream",
          "text": [
            "21\n"
          ],
          "name": "stdout"
        }
      ]
    },
    {
      "cell_type": "markdown",
      "metadata": {
        "id": "wQNsfwKwwx6d",
        "colab_type": "text"
      },
      "source": [
        "### map()\n",
        "* ???\n",
        "* 갑자기 map함수를 살피는 이유는 모르겠지만\n",
        "* <code>map()</code>함수를 먼저 살펴보자\n",
        "* <code>mape(함수, 리스트)</code>"
      ]
    },
    {
      "cell_type": "code",
      "metadata": {
        "id": "gLO8uH1twuh3",
        "colab_type": "code",
        "colab": {
          "base_uri": "https://localhost:8080/",
          "height": 35
        },
        "outputId": "e89b30fc-ba0e-4189-c308-4e02ecd03ebb"
      },
      "source": [
        "map(lambda x : x ** 2, range(5))  # python 2의 문법"
      ],
      "execution_count": 11,
      "outputs": [
        {
          "output_type": "execute_result",
          "data": {
            "text/plain": [
              "<map at 0x7efd8e0d42b0>"
            ]
          },
          "metadata": {
            "tags": []
          },
          "execution_count": 11
        }
      ]
    },
    {
      "cell_type": "code",
      "metadata": {
        "id": "nERYwupCxKjU",
        "colab_type": "code",
        "colab": {
          "base_uri": "https://localhost:8080/",
          "height": 35
        },
        "outputId": "b6e3c26b-301a-4216-b0b5-4a7883c446b2"
      },
      "source": [
        "list(map(lambda x: x ** 2, range(5)))\n",
        "\n",
        "# list로부터 원소를 하나씩 꺼내어 함수에 적용시킨다. 그리고 결과를 새로운 리스트에 담아준다"
      ],
      "execution_count": 13,
      "outputs": [
        {
          "output_type": "execute_result",
          "data": {
            "text/plain": [
              "[0, 1, 4, 9, 16]"
            ]
          },
          "metadata": {
            "tags": []
          },
          "execution_count": 13
        }
      ]
    },
    {
      "cell_type": "code",
      "metadata": {
        "id": "INEvpkrhxPIV",
        "colab_type": "code",
        "colab": {
          "base_uri": "https://localhost:8080/",
          "height": 35
        },
        "outputId": "11990ef1-d986-40ea-b03d-716340809627"
      },
      "source": [
        "list(range(5))"
      ],
      "execution_count": 16,
      "outputs": [
        {
          "output_type": "execute_result",
          "data": {
            "text/plain": [
              "[0, 1, 2, 3, 4]"
            ]
          },
          "metadata": {
            "tags": []
          },
          "execution_count": 16
        }
      ]
    },
    {
      "cell_type": "markdown",
      "metadata": {
        "id": "vz10KM7TxtHF",
        "colab_type": "text"
      },
      "source": [
        "### reduce()\n",
        "\n",
        "* 이번에는 <code>reduce()</code>함수를 살펴봅니다\n",
        "* <code>reduce(함수, 순서형 자료형)</code>"
      ]
    },
    {
      "cell_type": "code",
      "metadata": {
        "id": "W20k4NpSxfI1",
        "colab_type": "code",
        "colab": {
          "base_uri": "https://localhost:8080/",
          "height": 35
        },
        "outputId": "c8038b8d-dea7-4123-b247-b5cd97ac6eee"
      },
      "source": [
        "from functools import reduce  # 파이썬 3\n",
        "reduce(lambda x, y: x + y, [0, 1, 2, 3, 4])"
      ],
      "execution_count": 18,
      "outputs": [
        {
          "output_type": "execute_result",
          "data": {
            "text/plain": [
              "10"
            ]
          },
          "metadata": {
            "tags": []
          },
          "execution_count": 18
        }
      ]
    },
    {
      "cell_type": "code",
      "metadata": {
        "id": "zJ75LljEx8e6",
        "colab_type": "code",
        "colab": {
          "base_uri": "https://localhost:8080/",
          "height": 35
        },
        "outputId": "b0da6cef-9e38-4825-98f5-00b4c64d150c"
      },
      "source": [
        "reduce(lambda x, y: y + x, 'abcde')"
      ],
      "execution_count": 19,
      "outputs": [
        {
          "output_type": "execute_result",
          "data": {
            "application/vnd.google.colaboratory.intrinsic+json": {
              "type": "string"
            },
            "text/plain": [
              "'edcba'"
            ]
          },
          "metadata": {
            "tags": []
          },
          "execution_count": 19
        }
      ]
    },
    {
      "cell_type": "markdown",
      "metadata": {
        "id": "oU9VTsQME8g9",
        "colab_type": "text"
      },
      "source": [
        "## 03. 람다 표현식\n",
        "* from Python Algorith Interview"
      ]
    },
    {
      "cell_type": "markdown",
      "metadata": {
        "id": "lyvGAqxGFCgV",
        "colab_type": "text"
      },
      "source": [
        "* 람다 표현식이란?\n",
        "    * 식별자 없이 실행 가능한 함수를 말하며, \n",
        "    * 함수 선언 없이도 하나의 식으로 함수를 단순하게 표현할 수 있다"
      ]
    },
    {
      "cell_type": "code",
      "metadata": {
        "id": "MENDdObCySnr",
        "colab_type": "code",
        "colab": {
          "base_uri": "https://localhost:8080/",
          "height": 35
        },
        "outputId": "9e04306f-b32c-4bd9-e2ec-34a627bba8d0"
      },
      "source": [
        "# Example 01\n",
        "\n",
        "s = ['2 A', '1 B', '4 C', '1 A']\n",
        "sorted(s)"
      ],
      "execution_count": 24,
      "outputs": [
        {
          "output_type": "execute_result",
          "data": {
            "text/plain": [
              "['1 A', '1 B', '2 A', '4 C']"
            ]
          },
          "metadata": {
            "tags": []
          },
          "execution_count": 24
        }
      ]
    },
    {
      "cell_type": "code",
      "metadata": {
        "id": "-ujGDo1FHJb2",
        "colab_type": "code",
        "colab": {}
      },
      "source": [
        "# 우리가 원하는 결과는 앞의 요소순으로 정렬하는 것이 아닌 뒤의 요소 알파벳 순으로의 정렬이다"
      ],
      "execution_count": 25,
      "outputs": []
    },
    {
      "cell_type": "code",
      "metadata": {
        "id": "c-Ilwre6HRJM",
        "colab_type": "code",
        "colab": {
          "base_uri": "https://localhost:8080/",
          "height": 35
        },
        "outputId": "3b196488-af34-419f-8500-52edab606de4"
      },
      "source": [
        "def func(x):\n",
        "    return x.split()[1], x.split()[0]\n",
        "\n",
        "s.sort(key=func)\n",
        "print(s)"
      ],
      "execution_count": 27,
      "outputs": [
        {
          "output_type": "stream",
          "text": [
            "['1 A', '2 A', '1 B', '4 C']\n"
          ],
          "name": "stdout"
        }
      ]
    },
    {
      "cell_type": "markdown",
      "metadata": {
        "id": "ajFEkKM6HgB1",
        "colab_type": "text"
      },
      "source": [
        "위의 방식과 달리 람다를 사용한다면 어떻게 표현할 수 있을까?"
      ]
    },
    {
      "cell_type": "code",
      "metadata": {
        "id": "0YuLkib0HcJL",
        "colab_type": "code",
        "colab": {
          "base_uri": "https://localhost:8080/",
          "height": 35
        },
        "outputId": "b6a18471-602a-4c96-b13a-21ebb643b144"
      },
      "source": [
        "s.sort(key=lambda x: (x.split()[1], x.split()[0]))\n",
        "s"
      ],
      "execution_count": 28,
      "outputs": [
        {
          "output_type": "execute_result",
          "data": {
            "text/plain": [
              "['1 A', '2 A', '1 B', '4 C']"
            ]
          },
          "metadata": {
            "tags": []
          },
          "execution_count": 28
        }
      ]
    },
    {
      "cell_type": "markdown",
      "metadata": {
        "id": "W2SrGmuaKljx",
        "colab_type": "text"
      },
      "source": [
        "## 백문이 불여일타\n",
        "\n",
        "* OffByOne님의 블로그 참고\n"
      ]
    },
    {
      "cell_type": "markdown",
      "metadata": {
        "id": "DPvejoOwKuD_",
        "colab_type": "text"
      },
      "source": [
        "* 파이썬에서의 람다란?\n",
        "    * 런타임에서 생성해서 사용할 수 있는 익명 함수이다\n",
        "    * filter(), map(), reduce()와 같은 전형적인 함수들과 함께 사용되는 매우 강력한 개념이다\n",
        "    * lambda는 쓰고 버리는 일시적인 함수이다\n",
        "    * 즉, 함수가 생성된 곳에서만 필요하다"
      ]
    },
    {
      "cell_type": "code",
      "metadata": {
        "id": "ZQ4sFnEeKlSG",
        "colab_type": "code",
        "colab": {
          "base_uri": "https://localhost:8080/",
          "height": 35
        },
        "outputId": "6aacb8be-c188-4915-f459-7863cb2ce5a8"
      },
      "source": [
        "# Example\n",
        "\n",
        "a = [1, 2, 3, 4]\n",
        "b = [17, 12, 11, 10]\n",
        "\n",
        "list(map(lambda x, y: x + y, a, b)) # make an iterator"
      ],
      "execution_count": 29,
      "outputs": [
        {
          "output_type": "execute_result",
          "data": {
            "text/plain": [
              "[18, 14, 14, 14]"
            ]
          },
          "metadata": {
            "tags": []
          },
          "execution_count": 29
        }
      ]
    },
    {
      "cell_type": "code",
      "metadata": {
        "id": "A4fXwsGILknk",
        "colab_type": "code",
        "colab": {
          "base_uri": "https://localhost:8080/",
          "height": 35
        },
        "outputId": "5f65cdde-9a72-4e46-e18b-1d17df411482"
      },
      "source": [
        "foo = [2, 18, 9, 22, 17, 24, 8, 12, 27]\n",
        "# len(foo)ß\n",
        "\n",
        "list(filter(lambda x: x%3 ==0, foo))  # Return an iterator yielding those items of iterable for which function(item) is true"
      ],
      "execution_count": 31,
      "outputs": [
        {
          "output_type": "execute_result",
          "data": {
            "text/plain": [
              "[18, 9, 24, 12, 27]"
            ]
          },
          "metadata": {
            "tags": []
          },
          "execution_count": 31
        }
      ]
    },
    {
      "cell_type": "code",
      "metadata": {
        "id": "4SFqxj6qLrUv",
        "colab_type": "code",
        "colab": {
          "base_uri": "https://localhost:8080/",
          "height": 35
        },
        "outputId": "351ddff8-383c-4811-f179-64b3e28a26f7"
      },
      "source": [
        "from functools import reduce\n",
        "reduce(lambda x, y: x+y, [1, 2, 3, 4, 5])"
      ],
      "execution_count": 32,
      "outputs": [
        {
          "output_type": "execute_result",
          "data": {
            "text/plain": [
              "15"
            ]
          },
          "metadata": {
            "tags": []
          },
          "execution_count": 32
        }
      ]
    }
  ]
}