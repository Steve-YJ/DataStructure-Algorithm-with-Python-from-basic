{
  "nbformat": 4,
  "nbformat_minor": 0,
  "metadata": {
    "colab": {
      "name": "Chap06. Valid_Palindrome.ipynb",
      "provenance": [],
      "authorship_tag": "ABX9TyPtFWL/o41RYiXhhDNUGl7Z",
      "include_colab_link": true
    },
    "kernelspec": {
      "name": "python3",
      "display_name": "Python 3"
    }
  },
  "cells": [
    {
      "cell_type": "markdown",
      "metadata": {
        "id": "view-in-github",
        "colab_type": "text"
      },
      "source": [
        "<a href=\"https://colab.research.google.com/github/Steve-YJ/DataStructure-Algorithm-with-Python-from-basic/blob/master/Chap06_Valid_Palindrome.ipynb\" target=\"_parent\"><img src=\"https://colab.research.google.com/assets/colab-badge.svg\" alt=\"Open In Colab\"/></a>"
      ]
    },
    {
      "cell_type": "markdown",
      "metadata": {
        "id": "zCbKMglBB-7u",
        "colab_type": "text"
      },
      "source": [
        "# Chap06. 01. Valid Palindrom\n",
        "* Solutions"
      ]
    },
    {
      "cell_type": "markdown",
      "metadata": {
        "id": "waV-jQZnCHPc",
        "colab_type": "text"
      },
      "source": [
        "## Solution 01. Do-it Myself\n",
        "\n",
        "* Runtime: 64 ms\n",
        "* Memory Usage: 15.1 MB\n",
        "\n",
        "* Not good... :<\n",
        "<br>=> 문자열로부터 한 번에 list를 만들어줬다면 그나마 낫지 않았을까..."
      ]
    },
    {
      "cell_type": "code",
      "metadata": {
        "id": "7s5As-FAB2qu",
        "colab_type": "code",
        "colab": {}
      },
      "source": [
        "class Solution(object):\n",
        "    def isPalindrome(self, s):\n",
        "        \"\"\"\n",
        "        :type s: str\n",
        "        :rtype: bool\n",
        "        \"\"\"\n",
        "        \n",
        "        s = s.lower()\n",
        "        # print(s)\n",
        "        \n",
        "        # 01. Remove all special characters, puntuation and spaces...\n",
        "        s = ''.join(e for e in s if e.isalnum())\n",
        "        # print(s)\n",
        "        \n",
        "        # Reference: convert String to a List\n",
        "        # https://www.geeksforgeeks.org/python-program-convert-string-list/\n",
        "        list1 = []\n",
        "        list1[:0] = s\n",
        "        # print(list1)\n",
        "        \n",
        "        left, right = 0, len(list1)-1\n",
        "        \n",
        "        while left < right:\n",
        "            if list1[left] == list1[right]:\n",
        "                print('Same!')\n",
        "                left += 1\n",
        "                right -= 1\n",
        "                \n",
        "            elif list1[left] != list1[right]:\n",
        "                print('Not Same!')\n",
        "                return False\n",
        "            \n",
        "        return True\n",
        "            \n",
        "                "
      ],
      "execution_count": 1,
      "outputs": []
    },
    {
      "cell_type": "markdown",
      "metadata": {
        "id": "0xit0oqUCfk9",
        "colab_type": "text"
      },
      "source": [
        "## Solution 02. Compare it using reverse!\n",
        "* Runtime: 28 ms\n",
        "* Memory Usage: 14.4 MB"
      ]
    },
    {
      "cell_type": "code",
      "metadata": {
        "id": "Ix0z4EOLCehQ",
        "colab_type": "code",
        "colab": {}
      },
      "source": [
        "class Solution(object):\n",
        "    def isPalindrome(self, s):\n",
        "        \"\"\"\n",
        "        :type s: str\n",
        "        :rtype: bool\n",
        "        \"\"\"\n",
        "        \n",
        "        print(s)\n",
        "        s = s.lower()\n",
        "        s = ''.join(e for e in s if e.isalnum())\n",
        "        print(s)\n",
        "        \n",
        "        flip = s[::-1]\n",
        "        print(flip)\n",
        "        \n",
        "        if s == flip:\n",
        "            return True\n",
        "        else:\n",
        "            return False"
      ],
      "execution_count": 2,
      "outputs": []
    },
    {
      "cell_type": "markdown",
      "metadata": {
        "id": "gwojT1XiC9UY",
        "colab_type": "text"
      },
      "source": [
        "## Solution 03. Using List\n",
        "* Runtime: 300 ms\n",
        "* Memory Usage: 13.9 MB\n",
        "<br>\n",
        "<br>\n",
        "Runtime is too long...!"
      ]
    },
    {
      "cell_type": "code",
      "metadata": {
        "id": "_mO2ExdEC81M",
        "colab_type": "code",
        "colab": {}
      },
      "source": [
        "class Solution(object):\n",
        "    def isPalindrome(self, s):\n",
        "        \"\"\"\n",
        "        :type s: str\n",
        "        :rtype: bool\n",
        "        \"\"\"\n",
        "        \n",
        "        '''\n",
        "        1. Preprocessing -> lower(), make list\n",
        "        2. compare each values\n",
        "        '''\n",
        "        \n",
        "        s = s.lower()\n",
        "        \n",
        "        strings = []\n",
        "        \n",
        "        for e in s:\n",
        "            if e.isalnum():\n",
        "                strings.append(e)\n",
        "                \n",
        "        print(strings)\n",
        "        \n",
        "        while len(strings) > 1:\n",
        "            if strings.pop(0) != strings.pop():\n",
        "                return False\n",
        "            \n",
        "        return True"
      ],
      "execution_count": 3,
      "outputs": []
    },
    {
      "cell_type": "markdown",
      "metadata": {
        "id": "O6ShyZ5KDUpb",
        "colab_type": "text"
      },
      "source": [
        "## 03-1. Using Deque\n",
        "* PyCham에서는 잘 동작하지만\n",
        "* LeetCode에서는 무슨 이유인지 작동이 되지 않는다...\n",
        "\n",
        "* 책에 의하면 List 자료형 대신 Deque을 사용하면 시간복잡도가 훨씬 줄어드는 것을 볼 수 있다"
      ]
    },
    {
      "cell_type": "code",
      "metadata": {
        "id": "-15ZfIE0DRHE",
        "colab_type": "code",
        "colab": {
          "base_uri": "https://localhost:8080/",
          "height": 35
        },
        "outputId": "d4ec0070-02f4-4408-dad6-c76640ac6efc"
      },
      "source": [
        "import collections\n",
        "from typing import Deque\n",
        "\n",
        "class Solution(object):\n",
        "    def isPalindrome(self, s):\n",
        "        \"\"\"\n",
        "        :type s: str\n",
        "        :rtype: bool\n",
        "        \"\"\"\n",
        "\n",
        "        # 지난 풀이와 달리, List 자료형을 Deque로 선언해보자...!\n",
        "        strs: Deque = collections.deque()\n",
        "\n",
        "        s = s.lower()\n",
        "        for char in s:\n",
        "            if char.isalnum():\n",
        "                strs.append(char)\n",
        "\n",
        "        while len(strs) > 1:\n",
        "            if strs.popleft() != strs.pop():\n",
        "                return False\n",
        "\n",
        "        return True\n",
        "\n",
        "a = Solution()\n",
        "a.isPalindrome(\"A man, a plan, a canal: panama\")\n"
      ],
      "execution_count": 5,
      "outputs": [
        {
          "output_type": "execute_result",
          "data": {
            "text/plain": [
              "True"
            ]
          },
          "metadata": {
            "tags": []
          },
          "execution_count": 5
        }
      ]
    },
    {
      "cell_type": "code",
      "metadata": {
        "id": "2HCUpSiHDkkD",
        "colab_type": "code",
        "colab": {}
      },
      "source": [
        ""
      ],
      "execution_count": null,
      "outputs": []
    }
  ]
}