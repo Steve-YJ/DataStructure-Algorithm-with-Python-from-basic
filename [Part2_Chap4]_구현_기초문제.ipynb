{
  "nbformat": 4,
  "nbformat_minor": 0,
  "metadata": {
    "colab": {
      "name": "[Part2-Chap4] 구현 기초문제.ipynb",
      "provenance": [],
      "collapsed_sections": [],
      "authorship_tag": "ABX9TyOyBRdjT3ydCCz3kvr3UC+8",
      "include_colab_link": true
    },
    "kernelspec": {
      "name": "python3",
      "display_name": "Python 3"
    }
  },
  "cells": [
    {
      "cell_type": "markdown",
      "metadata": {
        "id": "view-in-github",
        "colab_type": "text"
      },
      "source": [
        "<a href=\"https://colab.research.google.com/github/Steve-YJ/DataStructure-Algorithm-with-Python-from-basic/blob/master/%5BPart2_Chap4%5D_%EA%B5%AC%ED%98%84_%EA%B8%B0%EC%B4%88%EB%AC%B8%EC%A0%9C.ipynb\" target=\"_parent\"><img src=\"https://colab.research.google.com/assets/colab-badge.svg\" alt=\"Open In Colab\"/></a>"
      ]
    },
    {
      "cell_type": "markdown",
      "metadata": {
        "id": "dKjZWdFj5hmk"
      },
      "source": [
        "# Part2-Chap4. 구현 기초 문제\n",
        "## 예제 4-1. 상하좌우"
      ]
    },
    {
      "cell_type": "markdown",
      "metadata": {
        "id": "_ARkkYcw8xxm"
      },
      "source": [
        "여행자 A의 시작 좌표는 항상 (1, 1)이다. 목적지까지 어떻게 이동할 수 있을까?"
      ]
    },
    {
      "cell_type": "markdown",
      "metadata": {
        "id": "mfV9bfak6CES"
      },
      "source": [
        "* 입력 조건\n",
        "    * 첫째 줄에 공간의 크기를 나타내는 N이 주어진다(1 <= N <= 100)\n",
        "    * 둘째 줄에 여행가 A가 이동할 계획서 내용이 주어진다. (1 <= 이동 횟수 <= 100)\n",
        "\n",
        "* 출력 조건\n",
        "    * 첫째 줄에 여행가 A가 최종적으로 도착할 지점의 좌표(X, Y)를 공백으로 구분하여 출력한다."
      ]
    },
    {
      "cell_type": "code",
      "metadata": {
        "id": "XPJghvqo5gWd",
        "outputId": "c807c77a-7500-4c1c-dfce-8b1382532ab9",
        "colab": {
          "base_uri": "https://localhost:8080/",
          "height": 52
        }
      },
      "source": [
        "# 공간의 크기 입력받기\n",
        "\n",
        "space = int(input())\n",
        "print('print_space: ', space)"
      ],
      "execution_count": 1,
      "outputs": [
        {
          "output_type": "stream",
          "text": [
            "5\n",
            "print_space:  5\n"
          ],
          "name": "stdout"
        }
      ]
    },
    {
      "cell_type": "code",
      "metadata": {
        "id": "BoA9F92p6gFs",
        "outputId": "455b3d6c-31a2-4ae2-b2ff-0bd0b1c78e86",
        "colab": {
          "base_uri": "https://localhost:8080/",
          "height": 55
        }
      },
      "source": [
        "# 2차원 행렬 만들기\n",
        "\n",
        "graph = []\n",
        "\n",
        "for i in range(space):\n",
        "    graph.append([(i+1, i+1) for i in range(space)])\n",
        "\n",
        "print('print-graph: ', graph)"
      ],
      "execution_count": 13,
      "outputs": [
        {
          "output_type": "stream",
          "text": [
            "print-graph:  [[(1, 1), (2, 2), (3, 3), (4, 4), (5, 5)], [(1, 1), (2, 2), (3, 3), (4, 4), (5, 5)], [(1, 1), (2, 2), (3, 3), (4, 4), (5, 5)], [(1, 1), (2, 2), (3, 3), (4, 4), (5, 5)], [(1, 1), (2, 2), (3, 3), (4, 4), (5, 5)]]\n"
          ],
          "name": "stdout"
        }
      ]
    },
    {
      "cell_type": "code",
      "metadata": {
        "id": "zJsdi9Ij6zrZ",
        "outputId": "7ce90530-d425-4224-8db0-7f6f7168790b",
        "colab": {
          "base_uri": "https://localhost:8080/",
          "height": 104
        }
      },
      "source": [
        "graph"
      ],
      "execution_count": 33,
      "outputs": [
        {
          "output_type": "execute_result",
          "data": {
            "text/plain": [
              "[[(1, 1), (2, 2), (3, 3), (4, 4), (5, 5)],\n",
              " [(1, 1), (2, 2), (3, 3), (4, 4), (5, 5)],\n",
              " [(1, 1), (2, 2), (3, 3), (4, 4), (5, 5)],\n",
              " [(1, 1), (2, 2), (3, 3), (4, 4), (5, 5)],\n",
              " [(1, 1), (2, 2), (3, 3), (4, 4), (5, 5)]]"
            ]
          },
          "metadata": {
            "tags": []
          },
          "execution_count": 33
        }
      ]
    },
    {
      "cell_type": "code",
      "metadata": {
        "id": "Jg-vrB_e7hwp",
        "outputId": "10d43a6e-ed47-4ac2-8c1b-4d528997b3a1",
        "colab": {
          "base_uri": "https://localhost:8080/",
          "height": 52
        }
      },
      "source": [
        "# 이동 계획서 입력\n",
        "\n",
        "plan = list(map(str, input().split()))\n",
        "print(\"print-plan: \", plan)"
      ],
      "execution_count": 19,
      "outputs": [
        {
          "output_type": "stream",
          "text": [
            "R R R U D D\n",
            "print-plan:  ['R', 'R', 'R', 'U', 'D', 'D']\n"
          ],
          "name": "stdout"
        }
      ]
    },
    {
      "cell_type": "code",
      "metadata": {
        "id": "QMASs4uO93p4",
        "outputId": "54e199f8-aa0f-4c94-c630-ff61c671b514",
        "colab": {
          "base_uri": "https://localhost:8080/",
          "height": 35
        }
      },
      "source": [
        "s_point = graph[0][0]\n",
        "print(\"print-s_point: \", s_point)"
      ],
      "execution_count": 51,
      "outputs": [
        {
          "output_type": "stream",
          "text": [
            "print-s_point:  (1, 1)\n"
          ],
          "name": "stdout"
        }
      ]
    },
    {
      "cell_type": "code",
      "metadata": {
        "id": "ybYaK_jM_16Q",
        "outputId": "74e29938-510a-4981-e846-daeed93abb90",
        "colab": {
          "base_uri": "https://localhost:8080/",
          "height": 35
        }
      },
      "source": [
        "s_height = s_point[0]\n",
        "s_width = s_point[1]\n",
        "\n",
        "print(\"print-s_h_w: \", s_height, s_width)"
      ],
      "execution_count": 56,
      "outputs": [
        {
          "output_type": "stream",
          "text": [
            "print-s_h_w:  1 1\n"
          ],
          "name": "stdout"
        }
      ]
    },
    {
      "cell_type": "code",
      "metadata": {
        "id": "Jz6mV1EZ_JtN",
        "outputId": "a97eaf1b-30da-49ab-c5aa-26f84ccc72c7",
        "colab": {
          "base_uri": "https://localhost:8080/",
          "height": 52
        }
      },
      "source": [
        "print(s_point[0] + 1)\n",
        "print(s_point[1] + 1)"
      ],
      "execution_count": 57,
      "outputs": [
        {
          "output_type": "stream",
          "text": [
            "2\n",
            "2\n"
          ],
          "name": "stdout"
        }
      ]
    },
    {
      "cell_type": "code",
      "metadata": {
        "id": "VsSo9_OjDGPi",
        "outputId": "738189e8-0645-43c1-bf38-cce7740e059c",
        "colab": {
          "base_uri": "https://localhost:8080/",
          "height": 52
        }
      },
      "source": [
        "print(\"print-s_h_w: \", s_height, s_width)\n",
        "print(\"print-plan: \", plan)"
      ],
      "execution_count": 58,
      "outputs": [
        {
          "output_type": "stream",
          "text": [
            "print-s_h_w:  1 1\n",
            "print-plan:  ['R', 'R', 'R', 'U', 'D', 'D']\n"
          ],
          "name": "stdout"
        }
      ]
    },
    {
      "cell_type": "code",
      "metadata": {
        "id": "15GAyiAJ8e6t",
        "outputId": "d367b2fe-d5e3-4066-8998-de6768a95d93",
        "colab": {
          "base_uri": "https://localhost:8080/",
          "height": 35
        }
      },
      "source": [
        "# 이동 알고리즘\n",
        "tmp_w = 1\n",
        "tmp_h = 1\n",
        "last = (0, 0)\n",
        "\n",
        "for i in plan:  # 계획서에 명시된 이동 수만큼 이동. 0, 1, 2, 3, 4 ...\n",
        "    if i == 'R':\n",
        "        tmp_w = s_width + 1  # R로 이동할 계획이 있다면 width를 1 증가시킨다\n",
        "        \n",
        "        if tmp_w >= space + 1:  # 범위를 넘어선다면 pass\n",
        "            pass\n",
        "        else:\n",
        "            s_width = tmp_w     # 범위 내라면 업데이트\n",
        "    elif i == 'L':\n",
        "        tmp_w = s_width -1\n",
        "\n",
        "        if tmp_w <= 0:\n",
        "            pass\n",
        "        else:\n",
        "            s_width = tmp_w\n",
        "    elif i == 'U':\n",
        "        tmp_h = s_height -1\n",
        "        if tmp_h <= 0:\n",
        "            pass\n",
        "        else:\n",
        "            s_height = tmp_h\n",
        "    elif i == 'D':\n",
        "        tmp_h = s_height + 1\n",
        "        \n",
        "        if tmp_h >= space +1:\n",
        "            pass\n",
        "        else:\n",
        "            s_height = tmp_h\n",
        "\n",
        "print(s_height, s_width)"
      ],
      "execution_count": 59,
      "outputs": [
        {
          "output_type": "stream",
          "text": [
            "3 4\n"
          ],
          "name": "stdout"
        }
      ]
    }
  ]
}