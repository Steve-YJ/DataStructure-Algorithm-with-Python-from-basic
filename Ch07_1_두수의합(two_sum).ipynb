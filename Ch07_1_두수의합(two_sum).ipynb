{
  "nbformat": 4,
  "nbformat_minor": 0,
  "metadata": {
    "colab": {
      "name": "Ch07-1. 두수의합(two-sum).ipynb",
      "provenance": [],
      "collapsed_sections": [],
      "authorship_tag": "ABX9TyN/lQOaxPTwWm1+IGNkB9UZ",
      "include_colab_link": true
    },
    "kernelspec": {
      "name": "python3",
      "display_name": "Python 3"
    }
  },
  "cells": [
    {
      "cell_type": "markdown",
      "metadata": {
        "id": "view-in-github",
        "colab_type": "text"
      },
      "source": [
        "<a href=\"https://colab.research.google.com/github/Steve-YJ/DataStructure-Algorithm-with-Python-from-basic/blob/master/Ch07_1_%EB%91%90%EC%88%98%EC%9D%98%ED%95%A9(two_sum).ipynb\" target=\"_parent\"><img src=\"https://colab.research.google.com/assets/colab-badge.svg\" alt=\"Open In Colab\"/></a>"
      ]
    },
    {
      "cell_type": "markdown",
      "metadata": {
        "id": "qZXe7Ij4l5_t",
        "colab_type": "text"
      },
      "source": [
        "# Python Algorithm Interview\n",
        "## Ch07-1. Two Sum\n"
      ]
    },
    {
      "cell_type": "markdown",
      "metadata": {
        "id": "UOhtehslmP9n",
        "colab_type": "text"
      },
      "source": [
        "* Leet Code 첫 번째 문제인 Two Sum에 대해 알아보자\n",
        "* 이 문제는 매우 쉬운 편에 속하지만 최적화 할 수 있는 여러 가지 방법들이 숨어 있기에 코딩 인터뷰에서 높은 빈도로 출제되는 문제이다.\n",
        "* 가장 쉬운 방법부터 다양한 최적화 방법들을 알아보자!\n",
        "* From. 20.08.18.tue"
      ]
    },
    {
      "cell_type": "markdown",
      "metadata": {
        "id": "l_4u6RhKmNIg",
        "colab_type": "text"
      },
      "source": [
        "### 01. Brute Force Method"
      ]
    },
    {
      "cell_type": "code",
      "metadata": {
        "id": "8ERZjbv3l0Kw",
        "colab_type": "code",
        "colab": {
          "base_uri": "https://localhost:8080/",
          "height": 370
        },
        "outputId": "141dc9e0-a647-4f88-e702-51348fd22148"
      },
      "source": [
        "# 01. Brute Force Method\n",
        "\n",
        "class Solution:\n",
        "    def two_sum(self, nums: List[int], target: int) -> List[int]:\n",
        "        for i in range(len(nums)):\n",
        "            for j in range(i+1, len(nums)):\n",
        "                if nums[i] + nums[j] == target:\n",
        "                    print(\"Returned\", i, j)\n",
        "                    return [i, j]"
      ],
      "execution_count": 1,
      "outputs": [
        {
          "output_type": "error",
          "ename": "NameError",
          "evalue": "ignored",
          "traceback": [
            "\u001b[0;31m---------------------------------------------------------------------------\u001b[0m",
            "\u001b[0;31mNameError\u001b[0m                                 Traceback (most recent call last)",
            "\u001b[0;32m<ipython-input-1-7425e2e71646>\u001b[0m in \u001b[0;36m<module>\u001b[0;34m()\u001b[0m\n\u001b[1;32m      1\u001b[0m \u001b[0;31m# 01. Brute Force Method\u001b[0m\u001b[0;34m\u001b[0m\u001b[0;34m\u001b[0m\u001b[0;34m\u001b[0m\u001b[0m\n\u001b[1;32m      2\u001b[0m \u001b[0;34m\u001b[0m\u001b[0m\n\u001b[0;32m----> 3\u001b[0;31m \u001b[0;32mclass\u001b[0m \u001b[0mSolution\u001b[0m\u001b[0;34m:\u001b[0m\u001b[0;34m\u001b[0m\u001b[0;34m\u001b[0m\u001b[0m\n\u001b[0m\u001b[1;32m      4\u001b[0m     \u001b[0;32mdef\u001b[0m \u001b[0mtwo_sum\u001b[0m\u001b[0;34m(\u001b[0m\u001b[0mself\u001b[0m\u001b[0;34m,\u001b[0m \u001b[0mnums\u001b[0m\u001b[0;34m:\u001b[0m \u001b[0mList\u001b[0m\u001b[0;34m[\u001b[0m\u001b[0mint\u001b[0m\u001b[0;34m]\u001b[0m\u001b[0;34m,\u001b[0m \u001b[0mtarget\u001b[0m\u001b[0;34m:\u001b[0m \u001b[0mint\u001b[0m\u001b[0;34m)\u001b[0m \u001b[0;34m->\u001b[0m \u001b[0mList\u001b[0m\u001b[0;34m[\u001b[0m\u001b[0mint\u001b[0m\u001b[0;34m]\u001b[0m\u001b[0;34m:\u001b[0m\u001b[0;34m\u001b[0m\u001b[0;34m\u001b[0m\u001b[0m\n\u001b[1;32m      5\u001b[0m         \u001b[0;32mfor\u001b[0m \u001b[0mi\u001b[0m \u001b[0;32min\u001b[0m \u001b[0mrange\u001b[0m\u001b[0;34m(\u001b[0m\u001b[0mlen\u001b[0m\u001b[0;34m(\u001b[0m\u001b[0mnums\u001b[0m\u001b[0;34m)\u001b[0m\u001b[0;34m)\u001b[0m\u001b[0;34m:\u001b[0m\u001b[0;34m\u001b[0m\u001b[0;34m\u001b[0m\u001b[0m\n",
            "\u001b[0;32m<ipython-input-1-7425e2e71646>\u001b[0m in \u001b[0;36mSolution\u001b[0;34m()\u001b[0m\n\u001b[1;32m      2\u001b[0m \u001b[0;34m\u001b[0m\u001b[0m\n\u001b[1;32m      3\u001b[0m \u001b[0;32mclass\u001b[0m \u001b[0mSolution\u001b[0m\u001b[0;34m:\u001b[0m\u001b[0;34m\u001b[0m\u001b[0;34m\u001b[0m\u001b[0m\n\u001b[0;32m----> 4\u001b[0;31m     \u001b[0;32mdef\u001b[0m \u001b[0mtwo_sum\u001b[0m\u001b[0;34m(\u001b[0m\u001b[0mself\u001b[0m\u001b[0;34m,\u001b[0m \u001b[0mnums\u001b[0m\u001b[0;34m:\u001b[0m \u001b[0mList\u001b[0m\u001b[0;34m[\u001b[0m\u001b[0mint\u001b[0m\u001b[0;34m]\u001b[0m\u001b[0;34m,\u001b[0m \u001b[0mtarget\u001b[0m\u001b[0;34m:\u001b[0m \u001b[0mint\u001b[0m\u001b[0;34m)\u001b[0m \u001b[0;34m->\u001b[0m \u001b[0mList\u001b[0m\u001b[0;34m[\u001b[0m\u001b[0mint\u001b[0m\u001b[0;34m]\u001b[0m\u001b[0;34m:\u001b[0m\u001b[0;34m\u001b[0m\u001b[0;34m\u001b[0m\u001b[0m\n\u001b[0m\u001b[1;32m      5\u001b[0m         \u001b[0;32mfor\u001b[0m \u001b[0mi\u001b[0m \u001b[0;32min\u001b[0m \u001b[0mrange\u001b[0m\u001b[0;34m(\u001b[0m\u001b[0mlen\u001b[0m\u001b[0;34m(\u001b[0m\u001b[0mnums\u001b[0m\u001b[0;34m)\u001b[0m\u001b[0;34m)\u001b[0m\u001b[0;34m:\u001b[0m\u001b[0;34m\u001b[0m\u001b[0;34m\u001b[0m\u001b[0m\n\u001b[1;32m      6\u001b[0m             \u001b[0;32mfor\u001b[0m \u001b[0mj\u001b[0m \u001b[0;32min\u001b[0m \u001b[0mrange\u001b[0m\u001b[0;34m(\u001b[0m\u001b[0mi\u001b[0m\u001b[0;34m+\u001b[0m\u001b[0;36m1\u001b[0m\u001b[0;34m,\u001b[0m \u001b[0mlen\u001b[0m\u001b[0;34m(\u001b[0m\u001b[0mnums\u001b[0m\u001b[0;34m)\u001b[0m\u001b[0;34m)\u001b[0m\u001b[0;34m:\u001b[0m\u001b[0;34m\u001b[0m\u001b[0;34m\u001b[0m\u001b[0m\n",
            "\u001b[0;31mNameError\u001b[0m: name 'List' is not defined"
          ]
        }
      ]
    },
    {
      "cell_type": "code",
      "metadata": {
        "id": "SCK2_Egbm63O",
        "colab_type": "code",
        "colab": {}
      },
      "source": [
        "# 01. Brute Force Method\n",
        "from typing import List\n",
        "\n",
        "class Solution:\n",
        "    def two_sum(self, nums: List[int], target: int) -> List[int]:\n",
        "        for i in range(len(nums)):\n",
        "            for j in range(i+1, len(nums)):\n",
        "                if nums[i] + nums[j] == target:\n",
        "                    print(\"Returned\", i, j)\n",
        "                    return [i, j]"
      ],
      "execution_count": 6,
      "outputs": []
    },
    {
      "cell_type": "code",
      "metadata": {
        "id": "XMGwXatGnHq4",
        "colab_type": "code",
        "colab": {
          "base_uri": "https://localhost:8080/",
          "height": 53
        },
        "outputId": "158ada51-e3c7-4749-f384-b93ef6c540ff"
      },
      "source": [
        "nums = [2, 7, 11, 15]\n",
        "target = 9\n",
        "\n",
        "a = Solution()\n",
        "a.two_sum(nums, target)"
      ],
      "execution_count": 7,
      "outputs": [
        {
          "output_type": "stream",
          "text": [
            "Returned 0 1\n"
          ],
          "name": "stdout"
        },
        {
          "output_type": "execute_result",
          "data": {
            "text/plain": [
              "[0, 1]"
            ]
          },
          "metadata": {
            "tags": []
          },
          "execution_count": 7
        }
      ]
    },
    {
      "cell_type": "markdown",
      "metadata": {
        "id": "at-FZ20OpuJi",
        "colab_type": "text"
      },
      "source": [
        "가장 먼저 위와 같이 배열을 2번 반복하면서 모든 조합들을 일일이 더해보는 방법을 생각해 볼 수 있다.(Brute Force Method)<br>\n",
        "*이러한 풀이법이 가지는 문제점은 무엇일까? 좋은 풀이일까?*  "
      ]
    },
    {
      "cell_type": "markdown",
      "metadata": {
        "id": "eNnlEhMcp-Z1",
        "colab_type": "text"
      },
      "source": [
        "* Brute Force Method\n",
        "    * 무차별 대입의 경우 시간 복잡도가 O(n**2)이다\n",
        "    * 시간복잡도가 크기 때문에 지나치게 느린 방법이라고 볼 수 있다\n",
        "    * 다른 좋은 풀이에 대해 배워보도록 한다\n"
      ]
    },
    {
      "cell_type": "markdown",
      "metadata": {
        "id": "2HjDEjSCqX9M",
        "colab_type": "text"
      },
      "source": [
        "### 02. in을 이용한 탐색"
      ]
    },
    {
      "cell_type": "markdown",
      "metadata": {
        "id": "6cc3h1Wwql5A",
        "colab_type": "text"
      },
      "source": [
        "모든 조합을 비교하지 않고 정답, 즉 타겟에서 첫 번째 값을 뺀 값(target - n)이 존재하는지 탐색하는 문제로 변경해보자<br>\n",
        "직접 해보는 것을 권장한다"
      ]
    },
    {
      "cell_type": "code",
      "metadata": {
        "id": "tPESJ-Hyp9u2",
        "colab_type": "code",
        "colab": {
          "base_uri": "https://localhost:8080/",
          "height": 35
        },
        "outputId": "4cdbe305-58c4-4dbd-e1eb-12107abef5fb"
      },
      "source": [
        "print(nums, target)\n",
        "\n",
        "from typing import List\n",
        "\n",
        "class Solution:\n",
        "    def two_sum(self, nums: List[int], target:int) -> List[int]:\n",
        "        for i, n in enumerate(nums):\n",
        "            if target - n in nums[i+1:]:\n",
        "                print(nums.index(n), nums[i+1:].index(target-n) + (i+1))\n",
        "                return nums.index(n), nums[i+1:].index(target-n) + (i+1)"
      ],
      "execution_count": 15,
      "outputs": [
        {
          "output_type": "stream",
          "text": [
            "[2, 7, 11, 15] 9\n"
          ],
          "name": "stdout"
        }
      ]
    },
    {
      "cell_type": "code",
      "metadata": {
        "id": "YbZktdT2r3a1",
        "colab_type": "code",
        "colab": {
          "base_uri": "https://localhost:8080/",
          "height": 53
        },
        "outputId": "2b2faa52-b5fe-42f0-d877-2de45a87039a"
      },
      "source": [
        "a = Solution()\n",
        "a.two_sum(nums, target)"
      ],
      "execution_count": 16,
      "outputs": [
        {
          "output_type": "stream",
          "text": [
            "0 1\n"
          ],
          "name": "stdout"
        },
        {
          "output_type": "execute_result",
          "data": {
            "text/plain": [
              "(0, 1)"
            ]
          },
          "metadata": {
            "tags": []
          },
          "execution_count": 16
        }
      ]
    },
    {
      "cell_type": "markdown",
      "metadata": {
        "id": "wYl8bLa7srg_",
        "colab_type": "text"
      },
      "source": [
        "*Q. 2번째 방법의 시간 복잡도는 얼마일까?*<br>\n",
        "\n",
        "* in 연산의 시간 복잡도는 O(n)이다. \n",
        "* 따라서 전체 시간복잡도는 1번째 방법과 동일하게 O(n**2)이다\n",
        "* 그런데 in 연산을 사용한 방법이 훨씬 더 가볍고 빠르다"
      ]
    },
    {
      "cell_type": "markdown",
      "metadata": {
        "id": "S_EPJNVYtPgz",
        "colab_type": "text"
      },
      "source": [
        "### 03. 첫 번째 수를 뺀 결과 키 조회\n",
        "\n",
        "*비교나 탐색 대신 한 번에 정답을 찾을 수는 없을까?*<br>\n",
        "<br>\n",
        "우선 전체 코드를 살펴보자"
      ]
    },
    {
      "cell_type": "code",
      "metadata": {
        "id": "4V0gtTkwqwfr",
        "colab_type": "code",
        "colab": {}
      },
      "source": [
        "from typing import List\n",
        "\n",
        "def two_sum(self, nums:List[int], target: int) -> List[int]:\n",
        "    nums_map = {}\n",
        "\n",
        "    # 키와 값을 바꿔서 딕셔너리로 저장\n",
        "    for i, num in enumerate(nums):\n",
        "        nums_map[num] = i  # 값에 인덱스 저장\n",
        "                           # nums_map의 인덱스에는 nums list의 값이 저장된디\n",
        "\n",
        "    # 타겟에서 첫 번째 수를 뺀 결과를 키로 조회\n",
        "    for i, num in enumerate(nums):\n",
        "        if target - num in nums_map and i != nums_map[target - num]:\n",
        "            return nums.index(num), nums_map[target-num]"
      ],
      "execution_count": 17,
      "outputs": []
    },
    {
      "cell_type": "code",
      "metadata": {
        "id": "DPkDALTatTI7",
        "colab_type": "code",
        "colab": {
          "base_uri": "https://localhost:8080/",
          "height": 53
        },
        "outputId": "9bf11ff1-d0bb-43b9-d8f6-44bec0aef51c"
      },
      "source": [
        "a = Solution()\n",
        "a.two_sum(nums, target)"
      ],
      "execution_count": 18,
      "outputs": [
        {
          "output_type": "stream",
          "text": [
            "0 1\n"
          ],
          "name": "stdout"
        },
        {
          "output_type": "execute_result",
          "data": {
            "text/plain": [
              "(0, 1)"
            ]
          },
          "metadata": {
            "tags": []
          },
          "execution_count": 18
        }
      ]
    },
    {
      "cell_type": "markdown",
      "metadata": {
        "id": "fOCf4PEW1Tjj",
        "colab_type": "text"
      },
      "source": [
        "* 딕셔너리는 해시 테이블로 구현되어 있고, 이 경우 조회는 평균적으로 O(1)에 가능하다\n",
        "* (물론 최악의 경우에는 O(n)이지만 분할 상환 분석에 따르 시간 복잡도는 O(1)이다)\n",
        "\n",
        "* 따라서 전체 시간의 복잡도는 O(n)이 된다"
      ]
    },
    {
      "cell_type": "markdown",
      "metadata": {
        "id": "LFBQzW39tTma",
        "colab_type": "text"
      },
      "source": [
        "### 04. 조회 구조 개선"
      ]
    },
    {
      "cell_type": "code",
      "metadata": {
        "id": "aUn-Jwo2tTLR",
        "colab_type": "code",
        "colab": {}
      },
      "source": [
        ""
      ],
      "execution_count": 16,
      "outputs": []
    },
    {
      "cell_type": "code",
      "metadata": {
        "id": "8LRPutH-tTNn",
        "colab_type": "code",
        "colab": {}
      },
      "source": [
        ""
      ],
      "execution_count": null,
      "outputs": []
    },
    {
      "cell_type": "markdown",
      "metadata": {
        "id": "Jdx-i8uttVZ0",
        "colab_type": "text"
      },
      "source": [
        "### 05. 투 포인터 이용\n"
      ]
    },
    {
      "cell_type": "code",
      "metadata": {
        "id": "ZqrrjlMPtXLU",
        "colab_type": "code",
        "colab": {}
      },
      "source": [
        ""
      ],
      "execution_count": 16,
      "outputs": []
    },
    {
      "cell_type": "code",
      "metadata": {
        "id": "pGgresQ8tXN3",
        "colab_type": "code",
        "colab": {}
      },
      "source": [
        ""
      ],
      "execution_count": 16,
      "outputs": []
    },
    {
      "cell_type": "code",
      "metadata": {
        "id": "JOt4GqTAtXRM",
        "colab_type": "code",
        "colab": {}
      },
      "source": [
        ""
      ],
      "execution_count": null,
      "outputs": []
    },
    {
      "cell_type": "markdown",
      "metadata": {
        "id": "aYdWUAectYFn",
        "colab_type": "text"
      },
      "source": [
        "### 06. 고(Go) 구현"
      ]
    },
    {
      "cell_type": "code",
      "metadata": {
        "id": "DT5UTGt5tZlR",
        "colab_type": "code",
        "colab": {}
      },
      "source": [
        ""
      ],
      "execution_count": null,
      "outputs": []
    }
  ]
}