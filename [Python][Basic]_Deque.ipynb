{
  "nbformat": 4,
  "nbformat_minor": 0,
  "metadata": {
    "colab": {
      "name": "[Python][Basic] Deque.ipynb",
      "provenance": [],
      "collapsed_sections": [],
      "authorship_tag": "ABX9TyOyhNchwz9uKppfTEMJHU22",
      "include_colab_link": true
    },
    "kernelspec": {
      "name": "python3",
      "display_name": "Python 3"
    }
  },
  "cells": [
    {
      "cell_type": "markdown",
      "metadata": {
        "id": "view-in-github",
        "colab_type": "text"
      },
      "source": [
        "<a href=\"https://colab.research.google.com/github/Steve-YJ/DataStructure-Algorithm-with-Python-from-basic/blob/master/%5BPython%5D%5BBasic%5D_Deque.ipynb\" target=\"_parent\"><img src=\"https://colab.research.google.com/assets/colab-badge.svg\" alt=\"Open In Colab\"/></a>"
      ]
    },
    {
      "cell_type": "markdown",
      "metadata": {
        "id": "I60_Jo2IxDS3",
        "colab_type": "text"
      },
      "source": [
        "# [Python-Basic] Deque 자료형\n",
        "\n",
        "* reference: https://dongdongfather.tistory.com/72\n",
        "* Python-Algorithm Interview 9장. stack, queue를 공부하며 함께 deque자료형에 대해서도 학습한다.\n",
        "* 20.09.02.wed. pm12:03"
      ]
    },
    {
      "cell_type": "markdown",
      "metadata": {
        "id": "5mtowOk9xo_F",
        "colab_type": "text"
      },
      "source": [
        "## # Deque란?\n",
        "* deque 자료형은 스택과 큐의 기능을 모두 가진 객체로 출입구를 양쪽에 가지고 있다\n",
        "* 스택처럼 써도 되고, 큐처럼 써도 된다\n",
        "* 여러 메서드를 사용해 deque를 구현해보도록 한다!\n",
        "* 20.09.02.wed pm 12:05"
      ]
    },
    {
      "cell_type": "markdown",
      "metadata": {
        "id": "q6DiOIAqxZXp",
        "colab_type": "text"
      },
      "source": [
        "## #1. deque만들기"
      ]
    },
    {
      "cell_type": "code",
      "metadata": {
        "id": "TrOykKyTw88F",
        "colab_type": "code",
        "colab": {
          "base_uri": "https://localhost:8080/",
          "height": 33
        },
        "outputId": "fd424c3d-a679-44f4-d04f-fa0ae1aa732a"
      },
      "source": [
        "from collections import deque\n",
        "dq = deque('love')\n",
        "dq"
      ],
      "execution_count": 1,
      "outputs": [
        {
          "output_type": "execute_result",
          "data": {
            "text/plain": [
              "deque(['l', 'o', 'v', 'e'])"
            ]
          },
          "metadata": {
            "tags": []
          },
          "execution_count": 1
        }
      ]
    },
    {
      "cell_type": "markdown",
      "metadata": {
        "id": "Lu67sHWvxjCE",
        "colab_type": "text"
      },
      "source": [
        "문자열을 사용해 deque를 만들면 각 문자가 요소로 된 리스트 형태의 deque가 만들어진다"
      ]
    },
    {
      "cell_type": "markdown",
      "metadata": {
        "id": "TXhsRvRtyZNo",
        "colab_type": "text"
      },
      "source": [
        "### 1. 스택 구현: append(), pop()\n",
        "\n",
        "* python에서 deque자료형을 사용하면 스택을 구현할 수 있다고?!\n",
        "* 스택은 마지막(오른쪽 끝)에서 입출력한다\n",
        "* 입력시에는 append()메서드를 이용하고, 출력시에는 pop()을 이용한다\n",
        "<br><br>\n",
        "Let's get it start it!"
      ]
    },
    {
      "cell_type": "code",
      "metadata": {
        "id": "1MCgVUlxxiKV",
        "colab_type": "code",
        "colab": {
          "base_uri": "https://localhost:8080/",
          "height": 33
        },
        "outputId": "250da0fb-464a-436e-cd41-940428e4bf91"
      },
      "source": [
        "dq.append('m')  # 오른쪽 끝에 항목 추가\n",
        "dq"
      ],
      "execution_count": 2,
      "outputs": [
        {
          "output_type": "execute_result",
          "data": {
            "text/plain": [
              "deque(['l', 'o', 'v', 'e', 'm'])"
            ]
          },
          "metadata": {
            "tags": []
          },
          "execution_count": 2
        }
      ]
    },
    {
      "cell_type": "code",
      "metadata": {
        "id": "cKF_GU5qyv_e",
        "colab_type": "code",
        "colab": {
          "base_uri": "https://localhost:8080/",
          "height": 33
        },
        "outputId": "a9ee2621-b23d-4458-9382-b0b5006c4b4c"
      },
      "source": [
        "dq.pop()  # 오른쪽 끝 항목 삭제\n",
        "dq"
      ],
      "execution_count": 4,
      "outputs": [
        {
          "output_type": "execute_result",
          "data": {
            "text/plain": [
              "deque(['l', 'o', 'v'])"
            ]
          },
          "metadata": {
            "tags": []
          },
          "execution_count": 4
        }
      ]
    },
    {
      "cell_type": "markdown",
      "metadata": {
        "id": "x9RhFf1_y4GM",
        "colab_type": "text"
      },
      "source": [
        "## 2. 큐 구현: appendleft(), pop(), append(), popleft()\n",
        "* appendleft()\n",
        "* pop()\n",
        "* append()\n",
        "* popleft()\n",
        "<br><br>\n",
        "하나하나 시험해보자...!\n"
      ]
    },
    {
      "cell_type": "code",
      "metadata": {
        "id": "jK1WnK_szFON",
        "colab_type": "code",
        "colab": {
          "base_uri": "https://localhost:8080/",
          "height": 266
        },
        "outputId": "53341a3a-8893-4081-d85c-f8e334809faa"
      },
      "source": [
        "import collections\n",
        "\n",
        "test = collections.deque(\"P.S I Love You!\")\n",
        "test"
      ],
      "execution_count": 10,
      "outputs": [
        {
          "output_type": "execute_result",
          "data": {
            "text/plain": [
              "deque(['P',\n",
              "       '.',\n",
              "       'S',\n",
              "       ' ',\n",
              "       'I',\n",
              "       ' ',\n",
              "       'L',\n",
              "       'o',\n",
              "       'v',\n",
              "       'e',\n",
              "       ' ',\n",
              "       'Y',\n",
              "       'o',\n",
              "       'u',\n",
              "       '!'])"
            ]
          },
          "metadata": {
            "tags": []
          },
          "execution_count": 10
        }
      ]
    },
    {
      "cell_type": "code",
      "metadata": {
        "id": "2qOeA3r0yxyP",
        "colab_type": "code",
        "colab": {
          "base_uri": "https://localhost:8080/",
          "height": 283
        },
        "outputId": "2cca66b3-628b-4944-c7ef-6670ef9d7675"
      },
      "source": [
        "test.append('Hee!') # Add an element to the right side of the deque.\n",
        "test"
      ],
      "execution_count": 11,
      "outputs": [
        {
          "output_type": "execute_result",
          "data": {
            "text/plain": [
              "deque(['P',\n",
              "       '.',\n",
              "       'S',\n",
              "       ' ',\n",
              "       'I',\n",
              "       ' ',\n",
              "       'L',\n",
              "       'o',\n",
              "       'v',\n",
              "       'e',\n",
              "       ' ',\n",
              "       'Y',\n",
              "       'o',\n",
              "       'u',\n",
              "       '!',\n",
              "       'Hee!'])"
            ]
          },
          "metadata": {
            "tags": []
          },
          "execution_count": 11
        }
      ]
    },
    {
      "cell_type": "code",
      "metadata": {
        "id": "pkTAgw9Fzf4L",
        "colab_type": "code",
        "colab": {
          "base_uri": "https://localhost:8080/",
          "height": 300
        },
        "outputId": "d5dc16ae-7e57-44ef-cbee-4837812a76f5"
      },
      "source": [
        "test.appendleft('Really!') # Add an element to the left side of the deque.\n",
        "test"
      ],
      "execution_count": 12,
      "outputs": [
        {
          "output_type": "execute_result",
          "data": {
            "text/plain": [
              "deque(['Really!',\n",
              "       'P',\n",
              "       '.',\n",
              "       'S',\n",
              "       ' ',\n",
              "       'I',\n",
              "       ' ',\n",
              "       'L',\n",
              "       'o',\n",
              "       'v',\n",
              "       'e',\n",
              "       ' ',\n",
              "       'Y',\n",
              "       'o',\n",
              "       'u',\n",
              "       '!',\n",
              "       'Hee!'])"
            ]
          },
          "metadata": {
            "tags": []
          },
          "execution_count": 12
        }
      ]
    },
    {
      "cell_type": "code",
      "metadata": {
        "id": "nFkX4PB1zkrA",
        "colab_type": "code",
        "colab": {
          "base_uri": "https://localhost:8080/",
          "height": 35
        },
        "outputId": "418dcc97-2f49-4277-b97b-bfac7a3b35c7"
      },
      "source": [
        "test.pop()  # Remove and return the rightmost element.\n",
        "            # Expect 'Hee!' will removed"
      ],
      "execution_count": 13,
      "outputs": [
        {
          "output_type": "execute_result",
          "data": {
            "application/vnd.google.colaboratory.intrinsic+json": {
              "type": "string"
            },
            "text/plain": [
              "'Hee!'"
            ]
          },
          "metadata": {
            "tags": []
          },
          "execution_count": 13
        }
      ]
    },
    {
      "cell_type": "code",
      "metadata": {
        "id": "UpMvMCpdzxBt",
        "colab_type": "code",
        "colab": {
          "base_uri": "https://localhost:8080/",
          "height": 283
        },
        "outputId": "d672830a-2a8c-49d4-c67c-94d4be641a88"
      },
      "source": [
        "test"
      ],
      "execution_count": 14,
      "outputs": [
        {
          "output_type": "execute_result",
          "data": {
            "text/plain": [
              "deque(['Really!',\n",
              "       'P',\n",
              "       '.',\n",
              "       'S',\n",
              "       ' ',\n",
              "       'I',\n",
              "       ' ',\n",
              "       'L',\n",
              "       'o',\n",
              "       'v',\n",
              "       'e',\n",
              "       ' ',\n",
              "       'Y',\n",
              "       'o',\n",
              "       'u',\n",
              "       '!'])"
            ]
          },
          "metadata": {
            "tags": []
          },
          "execution_count": 14
        }
      ]
    },
    {
      "cell_type": "code",
      "metadata": {
        "id": "7Umr27zWzyDZ",
        "colab_type": "code",
        "colab": {
          "base_uri": "https://localhost:8080/",
          "height": 266
        },
        "outputId": "46a6fc9f-5c35-48ea-b867-622ff6671157"
      },
      "source": [
        "test.popleft()  # Remove and return the leftmost element.\n",
        "test"
      ],
      "execution_count": 15,
      "outputs": [
        {
          "output_type": "execute_result",
          "data": {
            "text/plain": [
              "deque(['P',\n",
              "       '.',\n",
              "       'S',\n",
              "       ' ',\n",
              "       'I',\n",
              "       ' ',\n",
              "       'L',\n",
              "       'o',\n",
              "       'v',\n",
              "       'e',\n",
              "       ' ',\n",
              "       'Y',\n",
              "       'o',\n",
              "       'u',\n",
              "       '!'])"
            ]
          },
          "metadata": {
            "tags": []
          },
          "execution_count": 15
        }
      ]
    },
    {
      "cell_type": "markdown",
      "metadata": {
        "id": "kKYhypbYz_Of",
        "colab_type": "text"
      },
      "source": [
        "### 3. deque확장하기: extend(), extendleft()"
      ]
    },
    {
      "cell_type": "code",
      "metadata": {
        "id": "rOmjvvnJ0MPk",
        "colab_type": "code",
        "colab": {
          "base_uri": "https://localhost:8080/",
          "height": 33
        },
        "outputId": "5a590155-b059-4433-eba4-0ac1ad0d1560"
      },
      "source": [
        "dq"
      ],
      "execution_count": 18,
      "outputs": [
        {
          "output_type": "execute_result",
          "data": {
            "text/plain": [
              "deque(['l', 'o', 'v'])"
            ]
          },
          "metadata": {
            "tags": []
          },
          "execution_count": 18
        }
      ]
    },
    {
      "cell_type": "code",
      "metadata": {
        "id": "i3i5c1QY0XX6",
        "colab_type": "code",
        "colab": {
          "base_uri": "https://localhost:8080/",
          "height": 33
        },
        "outputId": "69cf811d-7d40-47e2-8372-559fc517bd95"
      },
      "source": [
        "dq.extend('You')  # Extend the right side of the deque with elements from the iterable\n",
        "dq"
      ],
      "execution_count": 19,
      "outputs": [
        {
          "output_type": "execute_result",
          "data": {
            "text/plain": [
              "deque(['l', 'o', 'v', 'Y', 'o', 'u'])"
            ]
          },
          "metadata": {
            "tags": []
          },
          "execution_count": 19
        }
      ]
    },
    {
      "cell_type": "markdown",
      "metadata": {
        "id": "SQAAokvE0o7c",
        "colab_type": "text"
      },
      "source": [
        "'You'가 추가되는게 아니라 'Y', 'o', 'u'가 추가되는구나...!\n"
      ]
    },
    {
      "cell_type": "code",
      "metadata": {
        "id": "RmTWoyWK0vqE",
        "colab_type": "code",
        "colab": {
          "base_uri": "https://localhost:8080/",
          "height": 33
        },
        "outputId": "e1dc3a4e-53e5-4b61-cda2-5a5ec94bd706"
      },
      "source": [
        "dq = deque('love')\n",
        "dq.extendleft('Grrot!')  # Extend the left side of the deque with elements from the iterable\n",
        "dq"
      ],
      "execution_count": 24,
      "outputs": [
        {
          "output_type": "execute_result",
          "data": {
            "text/plain": [
              "deque(['!', 't', 'o', 'r', 'r', 'G', 'l', 'o', 'v', 'e'])"
            ]
          },
          "metadata": {
            "tags": []
          },
          "execution_count": 24
        }
      ]
    },
    {
      "cell_type": "code",
      "metadata": {
        "id": "BMa47I2H1M5p",
        "colab_type": "code",
        "colab": {
          "base_uri": "https://localhost:8080/",
          "height": 116
        },
        "outputId": "40b8bd8f-9a92-4490-df40-0043cf0e58f7"
      },
      "source": [
        "# 이렇게 사용해보면 어떨까?\n",
        "import collections\n",
        "\n",
        "string = '소주 만 병만 주소'\n",
        "string = string.split()\n",
        "\n",
        "soju = collections.deque([])\n",
        "\n",
        "for element in string:\n",
        "    soju.extend(element)\n",
        "\n",
        "print(soju)\n",
        "soju.reverse()\n",
        "reverse_soju = soju\n",
        "print(reverse_soju)\n",
        "print()\n",
        "print()\n",
        "print('=='*10, 'Is Parindrom?!', '=='* 10)\n",
        "print(soju == reverse_soju)"
      ],
      "execution_count": 56,
      "outputs": [
        {
          "output_type": "stream",
          "text": [
            "deque(['소', '주', '만', '병', '만', '주', '소'])\n",
            "deque(['소', '주', '만', '병', '만', '주', '소'])\n",
            "\n",
            "\n",
            "==================== Is Parindrom?! ====================\n",
            "True\n"
          ],
          "name": "stdout"
        }
      ]
    },
    {
      "cell_type": "markdown",
      "metadata": {
        "id": "DhaxFJ9Q0NFi",
        "colab_type": "text"
      },
      "source": [
        "### 4. list처럼 사용: insert(), remove()\n"
      ]
    },
    {
      "cell_type": "code",
      "metadata": {
        "id": "Z2MQOyv40Qam",
        "colab_type": "code",
        "colab": {
          "base_uri": "https://localhost:8080/",
          "height": 33
        },
        "outputId": "59312a8f-3563-430b-a2f0-3575648c68c8"
      },
      "source": [
        "dq = deque('I love you')\n",
        "dq[1] = 'really'\n",
        "dq"
      ],
      "execution_count": 59,
      "outputs": [
        {
          "output_type": "execute_result",
          "data": {
            "text/plain": [
              "deque(['I', 'really', 'l', 'o', 'v', 'e', ' ', 'y', 'o', 'u'])"
            ]
          },
          "metadata": {
            "tags": []
          },
          "execution_count": 59
        }
      ]
    },
    {
      "cell_type": "code",
      "metadata": {
        "id": "ADIPBz_h3q7N",
        "colab_type": "code",
        "colab": {
          "base_uri": "https://localhost:8080/",
          "height": 50
        },
        "outputId": "c195e612-5d9f-4353-948e-6e84bf4fc699"
      },
      "source": [
        "dq = deque('love')\n",
        "dq.insert(0, 'k')  # 0번째 인덱스에 k 추가\n",
        "print(dq)\n",
        "\n",
        "dq.remove('k')\n",
        "print(dq)"
      ],
      "execution_count": 61,
      "outputs": [
        {
          "output_type": "stream",
          "text": [
            "deque(['k', 'l', 'o', 'v', 'e'])\n",
            "deque(['l', 'o', 'v', 'e'])\n"
          ],
          "name": "stdout"
        }
      ]
    },
    {
      "cell_type": "markdown",
      "metadata": {
        "id": "4UD3cjen0Q3d",
        "colab_type": "text"
      },
      "source": [
        "### 5. deque의 내용을 좌우로 반전: reverse()"
      ]
    },
    {
      "cell_type": "code",
      "metadata": {
        "id": "QC3A6uSs0Qci",
        "colab_type": "code",
        "colab": {}
      },
      "source": [
        ""
      ],
      "execution_count": null,
      "outputs": []
    },
    {
      "cell_type": "code",
      "metadata": {
        "id": "v1qM78x50MbT",
        "colab_type": "code",
        "colab": {}
      },
      "source": [
        ""
      ],
      "execution_count": null,
      "outputs": []
    },
    {
      "cell_type": "code",
      "metadata": {
        "id": "yZPPcnvSz4FE",
        "colab_type": "code",
        "colab": {}
      },
      "source": [
        ""
      ],
      "execution_count": null,
      "outputs": []
    }
  ]
}