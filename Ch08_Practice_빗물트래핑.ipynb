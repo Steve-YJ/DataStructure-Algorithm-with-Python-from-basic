{
  "nbformat": 4,
  "nbformat_minor": 0,
  "metadata": {
    "colab": {
      "name": "Ch08.Practice_빗물트래핑.ipynb",
      "provenance": [],
      "collapsed_sections": [],
      "authorship_tag": "ABX9TyN1fyP9INS8+ndr6SRTDcIt",
      "include_colab_link": true
    },
    "kernelspec": {
      "name": "python3",
      "display_name": "Python 3"
    }
  },
  "cells": [
    {
      "cell_type": "markdown",
      "metadata": {
        "id": "view-in-github",
        "colab_type": "text"
      },
      "source": [
        "<a href=\"https://colab.research.google.com/github/Steve-YJ/DataStructure-Algorithm-with-Python-from-basic/blob/master/Ch08_Practice_%EB%B9%97%EB%AC%BC%ED%8A%B8%EB%9E%98%ED%95%91.ipynb\" target=\"_parent\"><img src=\"https://colab.research.google.com/assets/colab-badge.svg\" alt=\"Open In Colab\"/></a>"
      ]
    },
    {
      "cell_type": "markdown",
      "metadata": {
        "id": "kUcKO97BZEjV",
        "colab_type": "text"
      },
      "source": [
        "# Python ALgorithm Interview\n",
        "\n",
        "## Chap07. Array\n",
        "### 08. 빗물 트래핑\n",
        "* 높이를 입력받아 비 온 후 얼마나 많은 물이 쌓일 수 있는지 계산하라\n",
        "* Start: 20.08.18.Tue\n",
        "\n"
      ]
    },
    {
      "cell_type": "code",
      "metadata": {
        "id": "6uk6FRPGZZdD",
        "colab_type": "code",
        "colab": {
          "base_uri": "https://localhost:8080/",
          "height": 53
        },
        "outputId": "a25e8d4c-18f0-4633-8202-52409e19cf08"
      },
      "source": [
        "input = [0, 1, 0, 2, 1, 0, 1, 3, 2, 1, 2, 1]\n",
        "\n",
        "print(input)\n",
        "print(len(input))"
      ],
      "execution_count": 5,
      "outputs": [
        {
          "output_type": "stream",
          "text": [
            "[0, 1, 0, 2, 1, 0, 1, 3, 2, 1, 2, 1]\n",
            "12\n"
          ],
          "name": "stdout"
        }
      ]
    },
    {
      "cell_type": "code",
      "metadata": {
        "id": "U1WKhCCoY9BD",
        "colab_type": "code",
        "colab": {
          "base_uri": "https://localhost:8080/",
          "height": 269
        },
        "outputId": "5b4d2251-2edf-4a5e-9c1a-68d60eb33cb3"
      },
      "source": [
        "from typing import List\n",
        "\n",
        "trap = []\n",
        "\n",
        "class Solution():\n",
        "    def rain_trap(self, input: List[int]) -> int:\n",
        "        start_p = 0\n",
        "        for i in range(0, len(input)):\n",
        "            if input[i] <= 0:\n",
        "                pass\n",
        "            elif input[i] > 0:   # 물을 담아줄 둑을 찾는다.\n",
        "                tmp_trap = []  # 둑이 0보다 높으면 물을 담을 준비를 한다\n",
        "                for j in range(i+1, len(input)):   \n",
        "                    if input[i] > input[j]:   # j번째 값이 i번째 값보다 작은 경우\n",
        "                        tmp_trap.append(input[i]-input[j])  # 담아둘 둑보다 높이가 낮으면 tmp_trap에 물을 담아준다\n",
        "                    elif input[j] >= input[i]:               # j번째 값이 i번째 값보다 큰 경우\n",
        "                        trap.append(sum(tmp_trap))\n",
        "                        start_p += j\n",
        "                        break\n",
        "        print('Solution: ', sum(trap))\n",
        "        return sum(trap)\n",
        "\n",
        "a = Solution()\n",
        "a.rain_trap(input)\n",
        "\n",
        "\n",
        "#####################\n",
        "\n",
        "# 01. trap이 겹치는 경우, "
      ],
      "execution_count": 36,
      "outputs": [
        {
          "output_type": "stream",
          "text": [
            "0 0\n",
            "1 0\n",
            "2 3\n",
            "3 3\n",
            "4 10\n",
            "5 16\n",
            "6 16\n",
            "7 23\n",
            "8 23\n",
            "9 33\n",
            "10 43\n",
            "11 43\n",
            "Solution:  7\n"
          ],
          "name": "stdout"
        },
        {
          "output_type": "execute_result",
          "data": {
            "text/plain": [
              "7"
            ]
          },
          "metadata": {
            "tags": []
          },
          "execution_count": 36
        }
      ]
    },
    {
      "cell_type": "markdown",
      "metadata": {
        "id": "iNqHrnmBoBhY",
        "colab_type": "text"
      },
      "source": [
        "### Fix-YJ!<br>\n",
        "* Bug를 잡아보자...! 거의 다 왔다...!! -20.08.18.wed- pm12:00"
      ]
    },
    {
      "cell_type": "code",
      "metadata": {
        "id": "PwcC4ygsY9k1",
        "colab_type": "code",
        "colab": {
          "base_uri": "https://localhost:8080/",
          "height": 35
        },
        "outputId": "c1ada58b-ca70-4a9a-c690-89a81b369010"
      },
      "source": [
        "sum([1, 2, 1])"
      ],
      "execution_count": 27,
      "outputs": [
        {
          "output_type": "execute_result",
          "data": {
            "text/plain": [
              "4"
            ]
          },
          "metadata": {
            "tags": []
          },
          "execution_count": 27
        }
      ]
    },
    {
      "cell_type": "code",
      "metadata": {
        "id": "18gKep8GZDBc",
        "colab_type": "code",
        "colab": {
          "base_uri": "https://localhost:8080/",
          "height": 35
        },
        "outputId": "9c8dc02e-e85f-4d07-bda1-9b25d61bf3e0"
      },
      "source": [
        "input = [0, 1, 0, 2]\n",
        "answer = 1\n",
        "\n",
        "print(answer)"
      ],
      "execution_count": null,
      "outputs": [
        {
          "output_type": "stream",
          "text": [
            "1\n"
          ],
          "name": "stdout"
        }
      ]
    },
    {
      "cell_type": "code",
      "metadata": {
        "id": "0uBQahIYegp6",
        "colab_type": "code",
        "colab": {
          "base_uri": "https://localhost:8080/",
          "height": 35
        },
        "outputId": "d32767d3-094f-43c3-98ad-ea7dae5dfb59"
      },
      "source": [
        "print(input)"
      ],
      "execution_count": null,
      "outputs": [
        {
          "output_type": "stream",
          "text": [
            "[0, 1, 0, 2]\n"
          ],
          "name": "stdout"
        }
      ]
    },
    {
      "cell_type": "code",
      "metadata": {
        "id": "25XrWTZbdkKy",
        "colab_type": "code",
        "colab": {
          "base_uri": "https://localhost:8080/",
          "height": 104
        },
        "outputId": "e5d167d7-29f8-4232-ef57-3f9282800034"
      },
      "source": [
        "rain_dict = {}\n",
        "\n",
        "for idx, value in enumerate(input):\n",
        "    # print('idx', idx)\n",
        "    if value > 0:\n",
        "        rain_dict[value] = idx\n",
        "\n",
        "print(rain_dict)\n",
        "\n",
        "len = []\n",
        "for i in rain_dict:\n",
        "    len.append(i)\n",
        "    \n",
        "print(len)\n",
        "for i in range(len(rain_dict)):\n",
        "    print()"
      ],
      "execution_count": null,
      "outputs": [
        {
          "output_type": "stream",
          "text": [
            "{1: 1, 2: 3}\n",
            "1\n",
            "2\n",
            "\n",
            "\n"
          ],
          "name": "stdout"
        }
      ]
    },
    {
      "cell_type": "code",
      "metadata": {
        "id": "YiHzw_TIdq1O",
        "colab_type": "code",
        "colab": {}
      },
      "source": [
        ""
      ],
      "execution_count": null,
      "outputs": []
    }
  ]
}