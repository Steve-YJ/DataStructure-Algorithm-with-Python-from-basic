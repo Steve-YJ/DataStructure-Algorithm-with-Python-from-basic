{
 "cells": [
  {
   "cell_type": "markdown",
   "metadata": {},
   "source": [
    "# 파이썬 자료구조와 알고리즘 Intro\n",
    "\n",
    "## 옮긴이의 말"
   ]
  },
  {
   "cell_type": "markdown",
   "metadata": {},
   "source": [
    "<code>Pseudo Code(의사 코드)</code>\n",
    "프로그램 모듈의 동작 논리를 간결하게 표현하는 언어를 pseudocode라고 한다. 파이썬은 의사코드와 거의 유사하게 코드를 작성할 수 있을 정도로 간결한 언어다.\n",
    "\n",
    "한편... 이러한 특징 때문에 IoT 및 과학분야에서 많이 사용된다.<br>\n",
    "또한 **알고리즘 학습** 및 **주어진 문제를 코딩으로 해결하는 면접**에서도 인기를 끌고 있다."
   ]
  },
  {
   "cell_type": "markdown",
   "metadata": {},
   "source": [
    "내가 이 책을 꺼내든 이유는 이처럼 유용한 파이썬 언어를 통해 내게 주어진 문제를 풀고자 하기 때문이다.😀"
   ]
  },
  {
   "cell_type": "markdown",
   "metadata": {},
   "source": [
    "### 이 책의 예상 독자\n",
    "* 파이썬 자료구조 및 알고리즘을 동시에 습득하고자 하는 독자\n",
    "* 개발자/엔지니어 면접을 준비하는 독자\n",
    "* 파이썬 내장 타입, 스택과 큐와 같은 추상타입, 모듈, 객체지향 설계, 점근적 분석, 정렬, 검색, 동적 계획법\n",
    "* 이진 트리 및 그래프 등 전반적인 내용을 다룬다."
   ]
  },
  {
   "cell_type": "markdown",
   "metadata": {},
   "source": [
    "---\n",
    "* Part 1. 헬로, 자료구조1\n",
    "    * 정수\n",
    "    * 부동소수점\n",
    "    * 복소수\n",
    "    * fraction 모듈\n",
    "    * decimal 모듈\n",
    "    * 2진수, 8진수, 16진수\n",
    "    * 연습문제\n",
    "    * 넘파이 패키지\n",
    "\n",
    "* Part 2. 내장 시퀀스 타입\n",
    "    * 깊은 복사와 슬라이싱 연산\n",
    "    * 문자열\n",
    "    * 튜플\n",
    "    * 리스트\n",
    "    * 바이트와 바이트 배열\n",
    "    * 연습문제\n",
    "    \n",
    "* Part 3. 컬렉션 자료구조\n",
    "* Part 4. 구조와 모듈\n",
    "* part 5. 객체지향 설계\n",
    "* part 6. 파이썬 고급 주제\n",
    "\n",
    "\n",
    "여기까지가 Python과 기본 자료구조 파트인 것 같다.\n",
    "\n",
    "---"
   ]
  },
  {
   "cell_type": "markdown",
   "metadata": {},
   "source": [
    "Just Do it! 😃"
   ]
  },
  {
   "cell_type": "markdown",
   "metadata": {},
   "source": [
    "이번에도 역시 책을 통해 공부를 한다.<br>\n",
    "조금 특별한 점(?)이 있다면... 난생 처음 구매해본 ebook라는 점이다. 잘 부탁한다!🤝"
   ]
  },
  {
   "cell_type": "code",
   "execution_count": null,
   "metadata": {},
   "outputs": [],
   "source": []
  }
 ],
 "metadata": {
  "kernelspec": {
   "display_name": "Python 3",
   "language": "python",
   "name": "python3"
  },
  "language_info": {
   "codemirror_mode": {
    "name": "ipython",
    "version": 3
   },
   "file_extension": ".py",
   "mimetype": "text/x-python",
   "name": "python",
   "nbconvert_exporter": "python",
   "pygments_lexer": "ipython3",
   "version": "3.7.6"
  }
 },
 "nbformat": 4,
 "nbformat_minor": 4
}
